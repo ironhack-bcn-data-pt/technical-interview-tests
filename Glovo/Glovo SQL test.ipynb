{
 "cells": [
  {
   "cell_type": "markdown",
   "id": "69b9b50a",
   "metadata": {
    "toc": true
   },
   "source": [
    "<h1>Table of Contents<span class=\"tocSkip\"></span></h1>\n",
    "<div class=\"toc\"><ul class=\"toc-item\"><li><span><a href=\"#Generate-data\" data-toc-modified-id=\"Generate-data-1\"><span class=\"toc-item-num\">1&nbsp;&nbsp;</span>Generate data</a></span><ul class=\"toc-item\"><li><span><a href=\"#Create-database\" data-toc-modified-id=\"Create-database-1.1\"><span class=\"toc-item-num\">1.1&nbsp;&nbsp;</span>Create database</a></span></li><li><span><a href=\"#Query-database\" data-toc-modified-id=\"Query-database-1.2\"><span class=\"toc-item-num\">1.2&nbsp;&nbsp;</span>Query database</a></span></li></ul></li></ul></div>"
   ]
  },
  {
   "cell_type": "code",
   "execution_count": 1,
   "id": "5ee2c430",
   "metadata": {},
   "outputs": [],
   "source": [
    "import pandas as pd"
   ]
  },
  {
   "cell_type": "code",
   "execution_count": 2,
   "id": "a6af1a0e",
   "metadata": {},
   "outputs": [],
   "source": [
    "import numpy as np"
   ]
  },
  {
   "cell_type": "code",
   "execution_count": 97,
   "id": "588a2069",
   "metadata": {},
   "outputs": [],
   "source": [
    "from collections import Counter"
   ]
  },
  {
   "cell_type": "code",
   "execution_count": 102,
   "id": "e959d684",
   "metadata": {},
   "outputs": [],
   "source": [
    "def is_anagram(a,b):\n",
    "    return list(filter(lambda x: Counter(a) == Counter(x), b))"
   ]
  },
  {
   "cell_type": "code",
   "execution_count": 104,
   "id": "a938f762",
   "metadata": {},
   "outputs": [
    {
     "data": {
      "text/plain": [
       "['haa', 'aah']"
      ]
     },
     "execution_count": 104,
     "metadata": {},
     "output_type": "execute_result"
    }
   ],
   "source": [
    "is_anagram('aha',['haa','aaa','aah','hola'])"
   ]
  },
  {
   "cell_type": "raw",
   "id": "9a85262d",
   "metadata": {},
   "source": [
    "Given an n x n array, return the array elements arranged from outermost elements to the middle element, traveling clockwise.\n",
    "array = [[1,2,3],\n",
    "[4,5,6],\n",
    "[7,8,9]]\n",
    "snail(array) #=> [1,2,3,6,9,8,7,4,5]\n",
    "For better understanding, please follow the numbers of the next array consecutively:\n",
    "array = [[1,2,3],\n",
    "[8,9,4],\n",
    "[7,6,5]]\n",
    "snail(array) #=> [1,2,3,4,5,6,7,8,9]\n",
    "This image will illustrate things more clearly:"
   ]
  },
  {
   "cell_type": "code",
   "execution_count": null,
   "id": "0c4fdd7c",
   "metadata": {},
   "outputs": [],
   "source": [
    "![img](https://images2.programmersought.com/354/33/33f0add3c13b3b2e5504f05e488b20ba.png)"
   ]
  },
  {
   "cell_type": "markdown",
   "id": "cd550b45",
   "metadata": {},
   "source": [
    "![](https://images2.programmersought.com/354/33/33f0add3c13b3b2e5504f05e488b20ba.png)"
   ]
  },
  {
   "cell_type": "code",
   "execution_count": 67,
   "id": "2419cfc1",
   "metadata": {},
   "outputs": [
    {
     "data": {
      "text/plain": [
       "array([[1, 0, 2],\n",
       "       [9, 0, 6],\n",
       "       [2, 4, 2]])"
      ]
     },
     "execution_count": 67,
     "metadata": {},
     "output_type": "execute_result"
    }
   ],
   "source": [
    "a = np.random.randint(10, size=(3,3))\n",
    "a"
   ]
  },
  {
   "cell_type": "code",
   "execution_count": 93,
   "id": "a351b1fd",
   "metadata": {},
   "outputs": [],
   "source": [
    "def snail(array):\n",
    "    return list(array[0]) + snail(np.array(list(zip(*array[1:])))[::-1]) if array.size else []"
   ]
  },
  {
   "cell_type": "code",
   "execution_count": 96,
   "id": "0265b2d6",
   "metadata": {},
   "outputs": [
    {
     "data": {
      "text/plain": [
       "[1, 0, 2, 6, 2, 4, 2, 9, 0]"
      ]
     },
     "execution_count": 96,
     "metadata": {},
     "output_type": "execute_result"
    }
   ],
   "source": [
    "snail(a)"
   ]
  },
  {
   "cell_type": "markdown",
   "id": "43d2c18c",
   "metadata": {},
   "source": [
    "# Generate data "
   ]
  },
  {
   "cell_type": "code",
   "execution_count": 34,
   "id": "2b009f98",
   "metadata": {},
   "outputs": [
    {
     "data": {
      "text/html": [
       "<div>\n",
       "<style scoped>\n",
       "    .dataframe tbody tr th:only-of-type {\n",
       "        vertical-align: middle;\n",
       "    }\n",
       "\n",
       "    .dataframe tbody tr th {\n",
       "        vertical-align: top;\n",
       "    }\n",
       "\n",
       "    .dataframe thead th {\n",
       "        text-align: right;\n",
       "    }\n",
       "</style>\n",
       "<table border=\"1\" class=\"dataframe\">\n",
       "  <thead>\n",
       "    <tr style=\"text-align: right;\">\n",
       "      <th></th>\n",
       "      <th>id</th>\n",
       "      <th>first_order_id</th>\n",
       "      <th>registration_date</th>\n",
       "    </tr>\n",
       "  </thead>\n",
       "  <tbody>\n",
       "    <tr>\n",
       "      <th>0</th>\n",
       "      <td>10000</td>\n",
       "      <td>0</td>\n",
       "      <td>2020-12-26</td>\n",
       "    </tr>\n",
       "    <tr>\n",
       "      <th>1</th>\n",
       "      <td>10001</td>\n",
       "      <td>1</td>\n",
       "      <td>2021-06-24</td>\n",
       "    </tr>\n",
       "    <tr>\n",
       "      <th>2</th>\n",
       "      <td>10002</td>\n",
       "      <td>2</td>\n",
       "      <td>2021-03-20</td>\n",
       "    </tr>\n",
       "    <tr>\n",
       "      <th>3</th>\n",
       "      <td>10003</td>\n",
       "      <td>3</td>\n",
       "      <td>2021-05-10</td>\n",
       "    </tr>\n",
       "    <tr>\n",
       "      <th>4</th>\n",
       "      <td>10004</td>\n",
       "      <td>4</td>\n",
       "      <td>2021-04-18</td>\n",
       "    </tr>\n",
       "    <tr>\n",
       "      <th>...</th>\n",
       "      <td>...</td>\n",
       "      <td>...</td>\n",
       "      <td>...</td>\n",
       "    </tr>\n",
       "    <tr>\n",
       "      <th>9995</th>\n",
       "      <td>19995</td>\n",
       "      <td>9995</td>\n",
       "      <td>2021-01-08</td>\n",
       "    </tr>\n",
       "    <tr>\n",
       "      <th>9996</th>\n",
       "      <td>19996</td>\n",
       "      <td>9996</td>\n",
       "      <td>2020-09-13</td>\n",
       "    </tr>\n",
       "    <tr>\n",
       "      <th>9997</th>\n",
       "      <td>19997</td>\n",
       "      <td>9997</td>\n",
       "      <td>2020-10-13</td>\n",
       "    </tr>\n",
       "    <tr>\n",
       "      <th>9998</th>\n",
       "      <td>19998</td>\n",
       "      <td>9998</td>\n",
       "      <td>2021-05-09</td>\n",
       "    </tr>\n",
       "    <tr>\n",
       "      <th>9999</th>\n",
       "      <td>19999</td>\n",
       "      <td>9999</td>\n",
       "      <td>2020-10-01</td>\n",
       "    </tr>\n",
       "  </tbody>\n",
       "</table>\n",
       "<p>10000 rows × 3 columns</p>\n",
       "</div>"
      ],
      "text/plain": [
       "         id  first_order_id registration_date\n",
       "0     10000               0        2020-12-26\n",
       "1     10001               1        2021-06-24\n",
       "2     10002               2        2021-03-20\n",
       "3     10003               3        2021-05-10\n",
       "4     10004               4        2021-04-18\n",
       "...     ...             ...               ...\n",
       "9995  19995            9995        2021-01-08\n",
       "9996  19996            9996        2020-09-13\n",
       "9997  19997            9997        2020-10-13\n",
       "9998  19998            9998        2021-05-09\n",
       "9999  19999            9999        2020-10-01\n",
       "\n",
       "[10000 rows x 3 columns]"
      ]
     },
     "execution_count": 34,
     "metadata": {},
     "output_type": "execute_result"
    }
   ],
   "source": [
    "users = pd.DataFrame({'id': np.arange(10000,20000),\n",
    " 'first_order_id': np.arange(0,10000),\n",
    " 'registration_date': [fake.date_between(start_date='-1y', end_date='today') for i in np.arange(0,10000)]\n",
    "})\n",
    "users"
   ]
  },
  {
   "cell_type": "code",
   "execution_count": 40,
   "id": "83b978f0",
   "metadata": {},
   "outputs": [
    {
     "data": {
      "text/html": [
       "<div>\n",
       "<style scoped>\n",
       "    .dataframe tbody tr th:only-of-type {\n",
       "        vertical-align: middle;\n",
       "    }\n",
       "\n",
       "    .dataframe tbody tr th {\n",
       "        vertical-align: top;\n",
       "    }\n",
       "\n",
       "    .dataframe thead th {\n",
       "        text-align: right;\n",
       "    }\n",
       "</style>\n",
       "<table border=\"1\" class=\"dataframe\">\n",
       "  <thead>\n",
       "    <tr style=\"text-align: right;\">\n",
       "      <th></th>\n",
       "      <th>order_id</th>\n",
       "      <th>point_type</th>\n",
       "      <th>latitude</th>\n",
       "      <th>longitude</th>\n",
       "    </tr>\n",
       "  </thead>\n",
       "  <tbody>\n",
       "    <tr>\n",
       "      <th>0</th>\n",
       "      <td>0</td>\n",
       "      <td>DELIVERY</td>\n",
       "      <td>42.810330</td>\n",
       "      <td>-1.663741</td>\n",
       "    </tr>\n",
       "    <tr>\n",
       "      <th>1</th>\n",
       "      <td>1</td>\n",
       "      <td>DELIVERY</td>\n",
       "      <td>42.806788</td>\n",
       "      <td>-1.658021</td>\n",
       "    </tr>\n",
       "    <tr>\n",
       "      <th>2</th>\n",
       "      <td>2</td>\n",
       "      <td>DELIVERY</td>\n",
       "      <td>42.816817</td>\n",
       "      <td>-1.665900</td>\n",
       "    </tr>\n",
       "    <tr>\n",
       "      <th>3</th>\n",
       "      <td>3</td>\n",
       "      <td>DELIVERY</td>\n",
       "      <td>42.824209</td>\n",
       "      <td>-1.662587</td>\n",
       "    </tr>\n",
       "    <tr>\n",
       "      <th>4</th>\n",
       "      <td>4</td>\n",
       "      <td>DELIVERY</td>\n",
       "      <td>42.814868</td>\n",
       "      <td>-1.627160</td>\n",
       "    </tr>\n",
       "    <tr>\n",
       "      <th>...</th>\n",
       "      <td>...</td>\n",
       "      <td>...</td>\n",
       "      <td>...</td>\n",
       "      <td>...</td>\n",
       "    </tr>\n",
       "    <tr>\n",
       "      <th>9995</th>\n",
       "      <td>9995</td>\n",
       "      <td>PICKUP</td>\n",
       "      <td>42.812906</td>\n",
       "      <td>-1.629015</td>\n",
       "    </tr>\n",
       "    <tr>\n",
       "      <th>9996</th>\n",
       "      <td>9996</td>\n",
       "      <td>PICKUP</td>\n",
       "      <td>42.817068</td>\n",
       "      <td>-1.631902</td>\n",
       "    </tr>\n",
       "    <tr>\n",
       "      <th>9997</th>\n",
       "      <td>9997</td>\n",
       "      <td>PICKUP</td>\n",
       "      <td>42.826432</td>\n",
       "      <td>-1.632565</td>\n",
       "    </tr>\n",
       "    <tr>\n",
       "      <th>9998</th>\n",
       "      <td>9998</td>\n",
       "      <td>PICKUP</td>\n",
       "      <td>42.815195</td>\n",
       "      <td>-1.653794</td>\n",
       "    </tr>\n",
       "    <tr>\n",
       "      <th>9999</th>\n",
       "      <td>9999</td>\n",
       "      <td>PICKUP</td>\n",
       "      <td>42.810642</td>\n",
       "      <td>-1.629944</td>\n",
       "    </tr>\n",
       "  </tbody>\n",
       "</table>\n",
       "<p>20000 rows × 4 columns</p>\n",
       "</div>"
      ],
      "text/plain": [
       "      order_id point_type   latitude  longitude\n",
       "0            0   DELIVERY  42.810330  -1.663741\n",
       "1            1   DELIVERY  42.806788  -1.658021\n",
       "2            2   DELIVERY  42.816817  -1.665900\n",
       "3            3   DELIVERY  42.824209  -1.662587\n",
       "4            4   DELIVERY  42.814868  -1.627160\n",
       "...        ...        ...        ...        ...\n",
       "9995      9995     PICKUP  42.812906  -1.629015\n",
       "9996      9996     PICKUP  42.817068  -1.631902\n",
       "9997      9997     PICKUP  42.826432  -1.632565\n",
       "9998      9998     PICKUP  42.815195  -1.653794\n",
       "9999      9999     PICKUP  42.810642  -1.629944\n",
       "\n",
       "[20000 rows x 4 columns]"
      ]
     },
     "execution_count": 40,
     "metadata": {},
     "output_type": "execute_result"
    }
   ],
   "source": [
    "order_points = pd.concat([pd.DataFrame({\n",
    " 'order_id': orders.id,\n",
    " 'point_type': ['DELIVERY'] * len(orders),\n",
    " 'latitude': np.random.uniform(low=42.804419701589396, high=42.8269595840283, size=(len(users),)),                   \n",
    " 'longitude' : np.random.uniform(low=-1.6220578023901806, high=-1.669350510044231, size=(len(users),))                      \n",
    "}),pd.DataFrame({\n",
    " 'order_id': orders.id,\n",
    " 'point_type': ['PICKUP'] * len(orders),\n",
    " 'latitude': np.random.uniform(low=42.804419701589396, high=42.8269595840283, size=(len(users),)),                   \n",
    " 'longitude' : np.random.uniform(low=-1.6220578023901806, high=-1.669350510044231, size=(len(users),))                      \n",
    "})])\n",
    "           \n",
    "order_points"
   ]
  },
  {
   "cell_type": "code",
   "execution_count": 38,
   "id": "c824ee2d",
   "metadata": {},
   "outputs": [
    {
     "data": {
      "text/html": [
       "<div>\n",
       "<style scoped>\n",
       "    .dataframe tbody tr th:only-of-type {\n",
       "        vertical-align: middle;\n",
       "    }\n",
       "\n",
       "    .dataframe tbody tr th {\n",
       "        vertical-align: top;\n",
       "    }\n",
       "\n",
       "    .dataframe thead th {\n",
       "        text-align: right;\n",
       "    }\n",
       "</style>\n",
       "<table border=\"1\" class=\"dataframe\">\n",
       "  <thead>\n",
       "    <tr style=\"text-align: right;\">\n",
       "      <th></th>\n",
       "      <th>id</th>\n",
       "      <th>customer_id</th>\n",
       "      <th>activation_time_local</th>\n",
       "      <th>courier_id</th>\n",
       "      <th>acceptance_latitude</th>\n",
       "      <th>acceptance_longitude</th>\n",
       "    </tr>\n",
       "  </thead>\n",
       "  <tbody>\n",
       "    <tr>\n",
       "      <th>0</th>\n",
       "      <td>0</td>\n",
       "      <td>10000</td>\n",
       "      <td>2021-03-04</td>\n",
       "      <td>112</td>\n",
       "      <td>42.810964</td>\n",
       "      <td>-1.645933</td>\n",
       "    </tr>\n",
       "    <tr>\n",
       "      <th>1</th>\n",
       "      <td>1</td>\n",
       "      <td>10001</td>\n",
       "      <td>2021-06-25</td>\n",
       "      <td>115</td>\n",
       "      <td>42.807842</td>\n",
       "      <td>-1.655276</td>\n",
       "    </tr>\n",
       "    <tr>\n",
       "      <th>2</th>\n",
       "      <td>2</td>\n",
       "      <td>10002</td>\n",
       "      <td>2021-07-27</td>\n",
       "      <td>114</td>\n",
       "      <td>42.812382</td>\n",
       "      <td>-1.664263</td>\n",
       "    </tr>\n",
       "    <tr>\n",
       "      <th>3</th>\n",
       "      <td>3</td>\n",
       "      <td>10003</td>\n",
       "      <td>2021-05-26</td>\n",
       "      <td>125</td>\n",
       "      <td>42.806644</td>\n",
       "      <td>-1.667666</td>\n",
       "    </tr>\n",
       "    <tr>\n",
       "      <th>4</th>\n",
       "      <td>4</td>\n",
       "      <td>10004</td>\n",
       "      <td>2021-06-13</td>\n",
       "      <td>160</td>\n",
       "      <td>42.810513</td>\n",
       "      <td>-1.665485</td>\n",
       "    </tr>\n",
       "    <tr>\n",
       "      <th>...</th>\n",
       "      <td>...</td>\n",
       "      <td>...</td>\n",
       "      <td>...</td>\n",
       "      <td>...</td>\n",
       "      <td>...</td>\n",
       "      <td>...</td>\n",
       "    </tr>\n",
       "    <tr>\n",
       "      <th>9995</th>\n",
       "      <td>9995</td>\n",
       "      <td>19995</td>\n",
       "      <td>2021-07-12</td>\n",
       "      <td>187</td>\n",
       "      <td>42.811985</td>\n",
       "      <td>-1.634736</td>\n",
       "    </tr>\n",
       "    <tr>\n",
       "      <th>9996</th>\n",
       "      <td>9996</td>\n",
       "      <td>19996</td>\n",
       "      <td>2020-11-09</td>\n",
       "      <td>112</td>\n",
       "      <td>42.807340</td>\n",
       "      <td>-1.652087</td>\n",
       "    </tr>\n",
       "    <tr>\n",
       "      <th>9997</th>\n",
       "      <td>9997</td>\n",
       "      <td>19997</td>\n",
       "      <td>2021-02-14</td>\n",
       "      <td>147</td>\n",
       "      <td>42.818220</td>\n",
       "      <td>-1.645438</td>\n",
       "    </tr>\n",
       "    <tr>\n",
       "      <th>9998</th>\n",
       "      <td>9998</td>\n",
       "      <td>19998</td>\n",
       "      <td>2021-05-21</td>\n",
       "      <td>122</td>\n",
       "      <td>42.821605</td>\n",
       "      <td>-1.634958</td>\n",
       "    </tr>\n",
       "    <tr>\n",
       "      <th>9999</th>\n",
       "      <td>9999</td>\n",
       "      <td>19999</td>\n",
       "      <td>2020-11-11</td>\n",
       "      <td>155</td>\n",
       "      <td>42.819635</td>\n",
       "      <td>-1.648189</td>\n",
       "    </tr>\n",
       "  </tbody>\n",
       "</table>\n",
       "<p>10000 rows × 6 columns</p>\n",
       "</div>"
      ],
      "text/plain": [
       "        id  customer_id activation_time_local  courier_id  \\\n",
       "0        0        10000            2021-03-04         112   \n",
       "1        1        10001            2021-06-25         115   \n",
       "2        2        10002            2021-07-27         114   \n",
       "3        3        10003            2021-05-26         125   \n",
       "4        4        10004            2021-06-13         160   \n",
       "...    ...          ...                   ...         ...   \n",
       "9995  9995        19995            2021-07-12         187   \n",
       "9996  9996        19996            2020-11-09         112   \n",
       "9997  9997        19997            2021-02-14         147   \n",
       "9998  9998        19998            2021-05-21         122   \n",
       "9999  9999        19999            2020-11-11         155   \n",
       "\n",
       "      acceptance_latitude  acceptance_longitude  \n",
       "0               42.810964             -1.645933  \n",
       "1               42.807842             -1.655276  \n",
       "2               42.812382             -1.664263  \n",
       "3               42.806644             -1.667666  \n",
       "4               42.810513             -1.665485  \n",
       "...                   ...                   ...  \n",
       "9995            42.811985             -1.634736  \n",
       "9996            42.807340             -1.652087  \n",
       "9997            42.818220             -1.645438  \n",
       "9998            42.821605             -1.634958  \n",
       "9999            42.819635             -1.648189  \n",
       "\n",
       "[10000 rows x 6 columns]"
      ]
     },
     "execution_count": 38,
     "metadata": {},
     "output_type": "execute_result"
    }
   ],
   "source": [
    "orders = pd.DataFrame({'id': users.first_order_id,\n",
    " 'customer_id': users.id,\n",
    " 'activation_time_local': users.registration_date.apply(lambda x: fake.date_between(start_date=x,  end_date='+1M')),\n",
    " 'courier_id': np.random.randint(100,200,len(users)),\n",
    " 'acceptance_latitude': np.random.uniform(low=42.804419701589396, high=42.8269595840283, size=(len(users),)),                   \n",
    " 'acceptance_longitude' : np.random.uniform(low=-1.6220578023901806, high=-1.669350510044231, size=(len(users),))                      \n",
    "})\n",
    "orders"
   ]
  },
  {
   "cell_type": "code",
   "execution_count": 6,
   "id": "3faa2bbf",
   "metadata": {},
   "outputs": [
    {
     "data": {
      "text/plain": [
       "array([128, 107, 112, 161, 179, 101, 113, 120, 107, 165])"
      ]
     },
     "execution_count": 6,
     "metadata": {},
     "output_type": "execute_result"
    }
   ],
   "source": [
    "np.random.randint(100,200,10)"
   ]
  },
  {
   "cell_type": "code",
   "execution_count": null,
   "id": "cf4772b8",
   "metadata": {},
   "outputs": [],
   "source": [
    "np.random.randint(100,200,10)"
   ]
  },
  {
   "cell_type": "code",
   "execution_count": 15,
   "id": "93f437c4",
   "metadata": {},
   "outputs": [
    {
     "data": {
      "text/plain": [
       "0.6791096317878984"
      ]
     },
     "execution_count": 15,
     "metadata": {},
     "output_type": "execute_result"
    }
   ],
   "source": [
    "np.random.rand()"
   ]
  },
  {
   "cell_type": "code",
   "execution_count": 16,
   "id": "39ae4d21",
   "metadata": {},
   "outputs": [
    {
     "data": {
      "text/plain": [
       "array([42.82547896, 42.80962144, 42.82167917, 42.8051713 , 42.8190304 ,\n",
       "       42.8227647 , 42.80723901, 42.80648006, 42.80618437, 42.81592107,\n",
       "       42.81606263, 42.81605636, 42.81341543, 42.81009735, 42.80527286,\n",
       "       42.81805648, 42.8170884 , 42.82610331, 42.81507845, 42.8217145 ,\n",
       "       42.8257491 , 42.80620268, 42.81881578, 42.81671143, 42.81810273,\n",
       "       42.80722783, 42.81053384, 42.81901482, 42.81855328, 42.80824344,\n",
       "       42.8046241 , 42.81009766, 42.80618176, 42.80653473, 42.81784155,\n",
       "       42.80965406, 42.81762627, 42.82346602, 42.82645792, 42.80541973,\n",
       "       42.82627607, 42.81944866, 42.80774046, 42.82051093, 42.81109388,\n",
       "       42.8087905 , 42.81489207, 42.81321151, 42.81688083, 42.81613622])"
      ]
     },
     "execution_count": 16,
     "metadata": {},
     "output_type": "execute_result"
    }
   ],
   "source": [
    "np.random.uniform(low=42.804419701589396, high=42.8269595840283, size=(50,))"
   ]
  },
  {
   "cell_type": "code",
   "execution_count": 18,
   "id": "0ff72087",
   "metadata": {},
   "outputs": [
    {
     "data": {
      "text/plain": [
       "array([-1.62860119, -1.66341489, -1.66764081, -1.62486016, -1.66838431,\n",
       "       -1.64670876, -1.63466466, -1.63476525, -1.62517807, -1.65510791,\n",
       "       -1.62503171, -1.64034542, -1.64058263, -1.62839078, -1.65212431,\n",
       "       -1.63863851, -1.66850373, -1.6661375 , -1.63768025, -1.62386502,\n",
       "       -1.65500897, -1.64870988, -1.63270967, -1.64473426, -1.66198474,\n",
       "       -1.65391968, -1.62977625, -1.66808233, -1.64044378, -1.63055004,\n",
       "       -1.66296478, -1.64278045, -1.63736357, -1.66455652, -1.66890379,\n",
       "       -1.65550047, -1.65340948, -1.63691244, -1.65130797, -1.63203373,\n",
       "       -1.6662076 , -1.64542561, -1.65733689, -1.64187883, -1.64373322,\n",
       "       -1.66163076, -1.66526013, -1.62264178, -1.64203298, -1.64592813])"
      ]
     },
     "execution_count": 18,
     "metadata": {},
     "output_type": "execute_result"
    }
   ],
   "source": [
    "np.random.uniform(low=-1.6220578023901806, high=-1.669350510044231, size=(50,))"
   ]
  },
  {
   "cell_type": "code",
   "execution_count": null,
   "id": "afe1c480",
   "metadata": {},
   "outputs": [],
   "source": [
    "42.8269595840283, -1.669350510044231"
   ]
  },
  {
   "cell_type": "code",
   "execution_count": null,
   "id": "f5071ea1",
   "metadata": {},
   "outputs": [],
   "source": [
    "42.804419701589396, -1.6220578023901806"
   ]
  },
  {
   "cell_type": "code",
   "execution_count": 19,
   "id": "e4b51b7b",
   "metadata": {},
   "outputs": [],
   "source": [
    "import random"
   ]
  },
  {
   "cell_type": "code",
   "execution_count": 21,
   "id": "ae6cfa18",
   "metadata": {},
   "outputs": [
    {
     "name": "stdout",
     "output_type": "stream",
     "text": [
      "Help on method choice in module random:\n",
      "\n",
      "choice(seq) method of random.Random instance\n",
      "    Choose a random element from a non-empty sequence.\n",
      "\n"
     ]
    }
   ],
   "source": [
    "help(random.choice)"
   ]
  },
  {
   "cell_type": "code",
   "execution_count": 23,
   "id": "7b65d443",
   "metadata": {},
   "outputs": [
    {
     "data": {
      "text/plain": [
       "array(['PICKUP', 'PICKUP', 'DELIVERY', 'DELIVERY', 'PICKUP', 'DELIVERY',\n",
       "       'DELIVERY', 'DELIVERY', 'DELIVERY', 'PICKUP'], dtype='<U8')"
      ]
     },
     "execution_count": 23,
     "metadata": {},
     "output_type": "execute_result"
    }
   ],
   "source": [
    "np.random.choice(['DELIVERY', 'PICKUP'], size=10)"
   ]
  },
  {
   "cell_type": "code",
   "execution_count": 25,
   "id": "77b2b858",
   "metadata": {},
   "outputs": [
    {
     "name": "stdout",
     "output_type": "stream",
     "text": [
      "Collecting faker\n",
      "  Downloading Faker-8.10.1-py3-none-any.whl (1.2 MB)\n",
      "\u001b[K     |████████████████████████████████| 1.2 MB 2.0 MB/s eta 0:00:01\n",
      "\u001b[?25hRequirement already satisfied: python-dateutil>=2.4 in /home/bioinformatica/.local/share/virtualenvs/Ironhack-OdDBNwqQ/lib/python3.7/site-packages (from faker) (2.8.1)\n",
      "Collecting text-unidecode==1.3\n",
      "  Using cached text_unidecode-1.3-py2.py3-none-any.whl (78 kB)\n",
      "Requirement already satisfied: six>=1.5 in /home/bioinformatica/.local/share/virtualenvs/Ironhack-OdDBNwqQ/lib/python3.7/site-packages (from python-dateutil>=2.4->faker) (1.16.0)\n",
      "Installing collected packages: text-unidecode, faker\n",
      "Successfully installed faker-8.10.1 text-unidecode-1.3\n"
     ]
    }
   ],
   "source": [
    "!pip install faker"
   ]
  },
  {
   "cell_type": "code",
   "execution_count": 27,
   "id": "757f1856",
   "metadata": {},
   "outputs": [
    {
     "data": {
      "text/plain": [
       "datetime.date(2021, 8, 1)"
      ]
     },
     "execution_count": 27,
     "metadata": {},
     "output_type": "execute_result"
    }
   ],
   "source": [
    "from faker import Faker\n",
    "fake = Faker()\n",
    "\n",
    "fake.date_between(start_date='today', end_date='+30d')"
   ]
  },
  {
   "cell_type": "code",
   "execution_count": 58,
   "id": "9cdc7948",
   "metadata": {},
   "outputs": [],
   "source": [
    "cities = {\n",
    "    'ES': ['BCN', 'MAD'],\n",
    "    'UK': ['LON','MAN']\n",
    "}"
   ]
  },
  {
   "cell_type": "code",
   "execution_count": 53,
   "id": "0b6f68d4",
   "metadata": {},
   "outputs": [
    {
     "data": {
      "text/plain": [
       "'BCN'"
      ]
     },
     "execution_count": 53,
     "metadata": {},
     "output_type": "execute_result"
    }
   ],
   "source": [
    "random.choice(['BCN', 'MAD'])"
   ]
  },
  {
   "cell_type": "code",
   "execution_count": 54,
   "id": "e1b1d8ae",
   "metadata": {},
   "outputs": [],
   "source": [
    "def get_city(country_code):\n",
    "    return random.choice(cities[country_code])"
   ]
  },
  {
   "cell_type": "code",
   "execution_count": 55,
   "id": "b2db6960",
   "metadata": {},
   "outputs": [
    {
     "data": {
      "text/html": [
       "<div>\n",
       "<style scoped>\n",
       "    .dataframe tbody tr th:only-of-type {\n",
       "        vertical-align: middle;\n",
       "    }\n",
       "\n",
       "    .dataframe tbody tr th {\n",
       "        vertical-align: top;\n",
       "    }\n",
       "\n",
       "    .dataframe thead th {\n",
       "        text-align: right;\n",
       "    }\n",
       "</style>\n",
       "<table border=\"1\" class=\"dataframe\">\n",
       "  <thead>\n",
       "    <tr style=\"text-align: right;\">\n",
       "      <th></th>\n",
       "      <th>creation_time</th>\n",
       "      <th>country_code</th>\n",
       "    </tr>\n",
       "  </thead>\n",
       "  <tbody>\n",
       "    <tr>\n",
       "      <th>0</th>\n",
       "      <td>2021-04-29</td>\n",
       "      <td>ES</td>\n",
       "    </tr>\n",
       "    <tr>\n",
       "      <th>1</th>\n",
       "      <td>2020-09-20</td>\n",
       "      <td>UK</td>\n",
       "    </tr>\n",
       "    <tr>\n",
       "      <th>2</th>\n",
       "      <td>2020-07-15</td>\n",
       "      <td>UK</td>\n",
       "    </tr>\n",
       "    <tr>\n",
       "      <th>3</th>\n",
       "      <td>2020-09-11</td>\n",
       "      <td>UK</td>\n",
       "    </tr>\n",
       "    <tr>\n",
       "      <th>4</th>\n",
       "      <td>2021-06-06</td>\n",
       "      <td>UK</td>\n",
       "    </tr>\n",
       "    <tr>\n",
       "      <th>...</th>\n",
       "      <td>...</td>\n",
       "      <td>...</td>\n",
       "    </tr>\n",
       "    <tr>\n",
       "      <th>9995</th>\n",
       "      <td>2021-06-21</td>\n",
       "      <td>ES</td>\n",
       "    </tr>\n",
       "    <tr>\n",
       "      <th>9996</th>\n",
       "      <td>2020-09-19</td>\n",
       "      <td>UK</td>\n",
       "    </tr>\n",
       "    <tr>\n",
       "      <th>9997</th>\n",
       "      <td>2021-02-19</td>\n",
       "      <td>ES</td>\n",
       "    </tr>\n",
       "    <tr>\n",
       "      <th>9998</th>\n",
       "      <td>2021-01-03</td>\n",
       "      <td>UK</td>\n",
       "    </tr>\n",
       "    <tr>\n",
       "      <th>9999</th>\n",
       "      <td>2021-04-08</td>\n",
       "      <td>UK</td>\n",
       "    </tr>\n",
       "  </tbody>\n",
       "</table>\n",
       "<p>10000 rows × 2 columns</p>\n",
       "</div>"
      ],
      "text/plain": [
       "     creation_time country_code\n",
       "0       2021-04-29           ES\n",
       "1       2020-09-20           UK\n",
       "2       2020-07-15           UK\n",
       "3       2020-09-11           UK\n",
       "4       2021-06-06           UK\n",
       "...            ...          ...\n",
       "9995    2021-06-21           ES\n",
       "9996    2020-09-19           UK\n",
       "9997    2021-02-19           ES\n",
       "9998    2021-01-03           UK\n",
       "9999    2021-04-08           UK\n",
       "\n",
       "[10000 rows x 2 columns]"
      ]
     },
     "execution_count": 55,
     "metadata": {},
     "output_type": "execute_result"
    }
   ],
   "source": [
    "events = pd.DataFrame({\n",
    " 'creation_time': [fake.date_between(start_date='-1y',  end_date='today') for i in range(10000)],\n",
    " 'country_code': np.random.choice(['ES','UK'], size=10000),                   \n",
    "})\n",
    "events"
   ]
  },
  {
   "cell_type": "code",
   "execution_count": 71,
   "id": "1e1a083f",
   "metadata": {},
   "outputs": [],
   "source": [
    "events['city_code'] = events.country_code.apply(get_city)"
   ]
  },
  {
   "cell_type": "code",
   "execution_count": 72,
   "id": "b6021977",
   "metadata": {},
   "outputs": [],
   "source": [
    "events['stores_ids'] = events.country_code.apply(lambda x: random.sample(stores_ids, 100))"
   ]
  },
  {
   "cell_type": "code",
   "execution_count": 78,
   "id": "c0fb97d6",
   "metadata": {},
   "outputs": [
    {
     "data": {
      "text/plain": [
       "0       {'country_code': 'ES', 'city_code': 'BCN', 'st...\n",
       "1       {'country_code': 'UK', 'city_code': 'LON', 'st...\n",
       "2       {'country_code': 'UK', 'city_code': 'LON', 'st...\n",
       "3       {'country_code': 'UK', 'city_code': 'LON', 'st...\n",
       "4       {'country_code': 'UK', 'city_code': 'MAN', 'st...\n",
       "                              ...                        \n",
       "9995    {'country_code': 'ES', 'city_code': 'BCN', 'st...\n",
       "9996    {'country_code': 'UK', 'city_code': 'LON', 'st...\n",
       "9997    {'country_code': 'ES', 'city_code': 'MAD', 'st...\n",
       "9998    {'country_code': 'UK', 'city_code': 'LON', 'st...\n",
       "9999    {'country_code': 'UK', 'city_code': 'LON', 'st...\n",
       "Length: 10000, dtype: object"
      ]
     },
     "execution_count": 78,
     "metadata": {},
     "output_type": "execute_result"
    }
   ],
   "source": [
    "events.apply(lambda x: {'country_code': x['country_code'], 'city_code': x['city_code'], 'stores_ids':x['stores_ids'] }, axis=1)"
   ]
  },
  {
   "cell_type": "code",
   "execution_count": 79,
   "id": "87c5ee94",
   "metadata": {},
   "outputs": [],
   "source": [
    "events['attributes_json'] = events.apply(lambda x: {'country_code': x['country_code'], 'city_code': x['city_code'], 'stores_ids':x['stores_ids'] }, axis=1)"
   ]
  },
  {
   "cell_type": "code",
   "execution_count": 81,
   "id": "ce87efb8",
   "metadata": {},
   "outputs": [
    {
     "data": {
      "text/html": [
       "<div>\n",
       "<style scoped>\n",
       "    .dataframe tbody tr th:only-of-type {\n",
       "        vertical-align: middle;\n",
       "    }\n",
       "\n",
       "    .dataframe tbody tr th {\n",
       "        vertical-align: top;\n",
       "    }\n",
       "\n",
       "    .dataframe thead th {\n",
       "        text-align: right;\n",
       "    }\n",
       "</style>\n",
       "<table border=\"1\" class=\"dataframe\">\n",
       "  <thead>\n",
       "    <tr style=\"text-align: right;\">\n",
       "      <th></th>\n",
       "      <th>index</th>\n",
       "      <th>creation_time</th>\n",
       "      <th>country_code</th>\n",
       "      <th>city_code</th>\n",
       "      <th>stores_ids</th>\n",
       "      <th>attributes_json</th>\n",
       "    </tr>\n",
       "  </thead>\n",
       "  <tbody>\n",
       "    <tr>\n",
       "      <th>0</th>\n",
       "      <td>0</td>\n",
       "      <td>2021-04-29</td>\n",
       "      <td>ES</td>\n",
       "      <td>BCN</td>\n",
       "      <td>[59, 51, 7, 40, 74, 68, 16, 33, 21, 72, 96, 12...</td>\n",
       "      <td>{'country_code': 'ES', 'city_code': 'BCN', 'st...</td>\n",
       "    </tr>\n",
       "    <tr>\n",
       "      <th>1</th>\n",
       "      <td>1</td>\n",
       "      <td>2020-09-20</td>\n",
       "      <td>UK</td>\n",
       "      <td>LON</td>\n",
       "      <td>[66, 53, 12, 15, 83, 7, 0, 68, 71, 96, 70, 67,...</td>\n",
       "      <td>{'country_code': 'UK', 'city_code': 'LON', 'st...</td>\n",
       "    </tr>\n",
       "    <tr>\n",
       "      <th>2</th>\n",
       "      <td>2</td>\n",
       "      <td>2020-07-15</td>\n",
       "      <td>UK</td>\n",
       "      <td>LON</td>\n",
       "      <td>[89, 44, 80, 30, 16, 62, 21, 18, 13, 64, 29, 2...</td>\n",
       "      <td>{'country_code': 'UK', 'city_code': 'LON', 'st...</td>\n",
       "    </tr>\n",
       "    <tr>\n",
       "      <th>3</th>\n",
       "      <td>3</td>\n",
       "      <td>2020-09-11</td>\n",
       "      <td>UK</td>\n",
       "      <td>LON</td>\n",
       "      <td>[51, 31, 71, 38, 99, 17, 30, 49, 75, 94, 63, 3...</td>\n",
       "      <td>{'country_code': 'UK', 'city_code': 'LON', 'st...</td>\n",
       "    </tr>\n",
       "    <tr>\n",
       "      <th>4</th>\n",
       "      <td>4</td>\n",
       "      <td>2021-06-06</td>\n",
       "      <td>UK</td>\n",
       "      <td>MAN</td>\n",
       "      <td>[97, 85, 56, 30, 46, 44, 71, 58, 1, 41, 16, 65...</td>\n",
       "      <td>{'country_code': 'UK', 'city_code': 'MAN', 'st...</td>\n",
       "    </tr>\n",
       "    <tr>\n",
       "      <th>...</th>\n",
       "      <td>...</td>\n",
       "      <td>...</td>\n",
       "      <td>...</td>\n",
       "      <td>...</td>\n",
       "      <td>...</td>\n",
       "      <td>...</td>\n",
       "    </tr>\n",
       "    <tr>\n",
       "      <th>9995</th>\n",
       "      <td>9995</td>\n",
       "      <td>2021-06-21</td>\n",
       "      <td>ES</td>\n",
       "      <td>BCN</td>\n",
       "      <td>[8, 84, 0, 71, 26, 17, 28, 50, 32, 96, 18, 57,...</td>\n",
       "      <td>{'country_code': 'ES', 'city_code': 'BCN', 'st...</td>\n",
       "    </tr>\n",
       "    <tr>\n",
       "      <th>9996</th>\n",
       "      <td>9996</td>\n",
       "      <td>2020-09-19</td>\n",
       "      <td>UK</td>\n",
       "      <td>LON</td>\n",
       "      <td>[24, 37, 95, 59, 31, 33, 89, 28, 3, 92, 8, 45,...</td>\n",
       "      <td>{'country_code': 'UK', 'city_code': 'LON', 'st...</td>\n",
       "    </tr>\n",
       "    <tr>\n",
       "      <th>9997</th>\n",
       "      <td>9997</td>\n",
       "      <td>2021-02-19</td>\n",
       "      <td>ES</td>\n",
       "      <td>MAD</td>\n",
       "      <td>[2, 14, 37, 65, 72, 59, 47, 64, 86, 13, 90, 48...</td>\n",
       "      <td>{'country_code': 'ES', 'city_code': 'MAD', 'st...</td>\n",
       "    </tr>\n",
       "    <tr>\n",
       "      <th>9998</th>\n",
       "      <td>9998</td>\n",
       "      <td>2021-01-03</td>\n",
       "      <td>UK</td>\n",
       "      <td>LON</td>\n",
       "      <td>[7, 20, 62, 50, 84, 12, 24, 14, 86, 10, 45, 82...</td>\n",
       "      <td>{'country_code': 'UK', 'city_code': 'LON', 'st...</td>\n",
       "    </tr>\n",
       "    <tr>\n",
       "      <th>9999</th>\n",
       "      <td>9999</td>\n",
       "      <td>2021-04-08</td>\n",
       "      <td>UK</td>\n",
       "      <td>LON</td>\n",
       "      <td>[15, 21, 0, 53, 88, 89, 87, 77, 72, 76, 8, 94,...</td>\n",
       "      <td>{'country_code': 'UK', 'city_code': 'LON', 'st...</td>\n",
       "    </tr>\n",
       "  </tbody>\n",
       "</table>\n",
       "<p>10000 rows × 6 columns</p>\n",
       "</div>"
      ],
      "text/plain": [
       "      index creation_time country_code city_code  \\\n",
       "0         0    2021-04-29           ES       BCN   \n",
       "1         1    2020-09-20           UK       LON   \n",
       "2         2    2020-07-15           UK       LON   \n",
       "3         3    2020-09-11           UK       LON   \n",
       "4         4    2021-06-06           UK       MAN   \n",
       "...     ...           ...          ...       ...   \n",
       "9995   9995    2021-06-21           ES       BCN   \n",
       "9996   9996    2020-09-19           UK       LON   \n",
       "9997   9997    2021-02-19           ES       MAD   \n",
       "9998   9998    2021-01-03           UK       LON   \n",
       "9999   9999    2021-04-08           UK       LON   \n",
       "\n",
       "                                             stores_ids  \\\n",
       "0     [59, 51, 7, 40, 74, 68, 16, 33, 21, 72, 96, 12...   \n",
       "1     [66, 53, 12, 15, 83, 7, 0, 68, 71, 96, 70, 67,...   \n",
       "2     [89, 44, 80, 30, 16, 62, 21, 18, 13, 64, 29, 2...   \n",
       "3     [51, 31, 71, 38, 99, 17, 30, 49, 75, 94, 63, 3...   \n",
       "4     [97, 85, 56, 30, 46, 44, 71, 58, 1, 41, 16, 65...   \n",
       "...                                                 ...   \n",
       "9995  [8, 84, 0, 71, 26, 17, 28, 50, 32, 96, 18, 57,...   \n",
       "9996  [24, 37, 95, 59, 31, 33, 89, 28, 3, 92, 8, 45,...   \n",
       "9997  [2, 14, 37, 65, 72, 59, 47, 64, 86, 13, 90, 48...   \n",
       "9998  [7, 20, 62, 50, 84, 12, 24, 14, 86, 10, 45, 82...   \n",
       "9999  [15, 21, 0, 53, 88, 89, 87, 77, 72, 76, 8, 94,...   \n",
       "\n",
       "                                        attributes_json  \n",
       "0     {'country_code': 'ES', 'city_code': 'BCN', 'st...  \n",
       "1     {'country_code': 'UK', 'city_code': 'LON', 'st...  \n",
       "2     {'country_code': 'UK', 'city_code': 'LON', 'st...  \n",
       "3     {'country_code': 'UK', 'city_code': 'LON', 'st...  \n",
       "4     {'country_code': 'UK', 'city_code': 'MAN', 'st...  \n",
       "...                                                 ...  \n",
       "9995  {'country_code': 'ES', 'city_code': 'BCN', 'st...  \n",
       "9996  {'country_code': 'UK', 'city_code': 'LON', 'st...  \n",
       "9997  {'country_code': 'ES', 'city_code': 'MAD', 'st...  \n",
       "9998  {'country_code': 'UK', 'city_code': 'LON', 'st...  \n",
       "9999  {'country_code': 'UK', 'city_code': 'LON', 'st...  \n",
       "\n",
       "[10000 rows x 6 columns]"
      ]
     },
     "execution_count": 81,
     "metadata": {},
     "output_type": "execute_result"
    }
   ],
   "source": [
    "events.reset_index()"
   ]
  },
  {
   "cell_type": "markdown",
   "id": "f4c34283",
   "metadata": {},
   "source": [
    "## Create database"
   ]
  },
  {
   "cell_type": "code",
   "execution_count": 85,
   "id": "7c862961",
   "metadata": {},
   "outputs": [],
   "source": [
    "import sqlalchemy"
   ]
  },
  {
   "cell_type": "code",
   "execution_count": 45,
   "id": "d97c1a89",
   "metadata": {},
   "outputs": [],
   "source": [
    "sql_url = 'sqlite:///glovo.db'"
   ]
  },
  {
   "cell_type": "code",
   "execution_count": 47,
   "id": "ac86ce5b",
   "metadata": {},
   "outputs": [],
   "source": [
    "users.to_sql('users', sql_url)\n",
    "orders.to_sql('orders', sql_url)\n",
    "order_points.to_sql('order_points', sql_url)\n",
    "events[['creation_time', 'attributes_json']].to_sql('events', sql_url, dtype={'attributes_json': sqlalchemy.types.JSON}, if_exists='replace')"
   ]
  },
  {
   "cell_type": "markdown",
   "id": "86cb55a8",
   "metadata": {},
   "source": [
    "## Query database"
   ]
  },
  {
   "cell_type": "code",
   "execution_count": 3,
   "id": "2f4872cd",
   "metadata": {},
   "outputs": [],
   "source": [
    "%load_ext sql"
   ]
  },
  {
   "cell_type": "code",
   "execution_count": 4,
   "id": "c9325061",
   "metadata": {},
   "outputs": [],
   "source": [
    "%sql sqlite:///glovo.db"
   ]
  },
  {
   "cell_type": "code",
   "execution_count": 5,
   "id": "6a39011f",
   "metadata": {},
   "outputs": [
    {
     "name": "stdout",
     "output_type": "stream",
     "text": [
      " * sqlite:///glovo.db\n",
      "Done.\n"
     ]
    },
    {
     "data": {
      "text/html": [
       "<table>\n",
       "    <tr>\n",
       "        <th>type</th>\n",
       "        <th>name</th>\n",
       "        <th>tbl_name</th>\n",
       "        <th>rootpage</th>\n",
       "        <th>sql</th>\n",
       "    </tr>\n",
       "    <tr>\n",
       "        <td>table</td>\n",
       "        <td>events</td>\n",
       "        <td>events</td>\n",
       "        <td>486</td>\n",
       "        <td>CREATE TABLE events (<br>\t&quot;index&quot; BIGINT, <br>\tcreation_time DATE, <br>\tattributes_json JSON<br>)</td>\n",
       "    </tr>\n",
       "    <tr>\n",
       "        <td>table</td>\n",
       "        <td>order_points</td>\n",
       "        <td>order_points</td>\n",
       "        <td>147</td>\n",
       "        <td>CREATE TABLE order_points (<br>\t&quot;index&quot; BIGINT, <br>\torder_id BIGINT, <br>\tpoint_type TEXT, <br>\tlatitude FLOAT, <br>\tlongitude FLOAT<br>)</td>\n",
       "    </tr>\n",
       "    <tr>\n",
       "        <td>table</td>\n",
       "        <td>orders</td>\n",
       "        <td>orders</td>\n",
       "        <td>2</td>\n",
       "        <td>CREATE TABLE orders (<br>\t&quot;index&quot; BIGINT, <br>\tid BIGINT, <br>\tcustomer_id BIGINT, <br>\tactivation_time_local DATE, <br>\tcourier_id BIGINT, <br>\tacceptance_latitude FLOAT, <br>\tacceptance_longitude FLOAT<br>)</td>\n",
       "    </tr>\n",
       "    <tr>\n",
       "        <td>table</td>\n",
       "        <td>users</td>\n",
       "        <td>users</td>\n",
       "        <td>392</td>\n",
       "        <td>CREATE TABLE users (<br>\t&quot;index&quot; BIGINT, <br>\tid BIGINT, <br>\tfirst_order_id BIGINT, <br>\tregistration_date DATE<br>)</td>\n",
       "    </tr>\n",
       "</table>"
      ],
      "text/plain": [
       "[('table', 'events', 'events', 486, 'CREATE TABLE events (\\n\\t\"index\" BIGINT, \\n\\tcreation_time DATE, \\n\\tattributes_json JSON\\n)'),\n",
       " ('table', 'order_points', 'order_points', 147, 'CREATE TABLE order_points (\\n\\t\"index\" BIGINT, \\n\\torder_id BIGINT, \\n\\tpoint_type TEXT, \\n\\tlatitude FLOAT, \\n\\tlongitude FLOAT\\n)'),\n",
       " ('table', 'orders', 'orders', 2, 'CREATE TABLE orders (\\n\\t\"index\" BIGINT, \\n\\tid BIGINT, \\n\\tcustomer_id BIGINT, \\n\\tactivation_time_local DATE, \\n\\tcourier_id BIGINT, \\n\\tacceptance_latitude FLOAT, \\n\\tacceptance_longitude FLOAT\\n)'),\n",
       " ('table', 'users', 'users', 392, 'CREATE TABLE users (\\n\\t\"index\" BIGINT, \\n\\tid BIGINT, \\n\\tfirst_order_id BIGINT, \\n\\tregistration_date DATE\\n)')]"
      ]
     },
     "execution_count": 5,
     "metadata": {},
     "output_type": "execute_result"
    }
   ],
   "source": [
    "%%sql\n",
    "SELECT *\n",
    "FROM sqlite_master\n",
    "WHERE type='table'\n",
    "ORDER BY name;"
   ]
  },
  {
   "cell_type": "code",
   "execution_count": 6,
   "id": "13a48c4f",
   "metadata": {},
   "outputs": [
    {
     "name": "stdout",
     "output_type": "stream",
     "text": [
      " * sqlite:///glovo.db\n",
      "Done.\n"
     ]
    },
    {
     "data": {
      "text/html": [
       "<table>\n",
       "    <tr>\n",
       "        <th>index</th>\n",
       "        <th>id</th>\n",
       "        <th>first_order_id</th>\n",
       "        <th>registration_date</th>\n",
       "    </tr>\n",
       "    <tr>\n",
       "        <td>0</td>\n",
       "        <td>10000</td>\n",
       "        <td>0</td>\n",
       "        <td>2020-12-26</td>\n",
       "    </tr>\n",
       "    <tr>\n",
       "        <td>1</td>\n",
       "        <td>10001</td>\n",
       "        <td>1</td>\n",
       "        <td>2021-06-24</td>\n",
       "    </tr>\n",
       "    <tr>\n",
       "        <td>2</td>\n",
       "        <td>10002</td>\n",
       "        <td>2</td>\n",
       "        <td>2021-03-20</td>\n",
       "    </tr>\n",
       "    <tr>\n",
       "        <td>3</td>\n",
       "        <td>10003</td>\n",
       "        <td>3</td>\n",
       "        <td>2021-05-10</td>\n",
       "    </tr>\n",
       "    <tr>\n",
       "        <td>4</td>\n",
       "        <td>10004</td>\n",
       "        <td>4</td>\n",
       "        <td>2021-04-18</td>\n",
       "    </tr>\n",
       "    <tr>\n",
       "        <td>5</td>\n",
       "        <td>10005</td>\n",
       "        <td>5</td>\n",
       "        <td>2021-03-26</td>\n",
       "    </tr>\n",
       "    <tr>\n",
       "        <td>6</td>\n",
       "        <td>10006</td>\n",
       "        <td>6</td>\n",
       "        <td>2021-07-03</td>\n",
       "    </tr>\n",
       "    <tr>\n",
       "        <td>7</td>\n",
       "        <td>10007</td>\n",
       "        <td>7</td>\n",
       "        <td>2021-06-12</td>\n",
       "    </tr>\n",
       "    <tr>\n",
       "        <td>8</td>\n",
       "        <td>10008</td>\n",
       "        <td>8</td>\n",
       "        <td>2020-12-13</td>\n",
       "    </tr>\n",
       "    <tr>\n",
       "        <td>9</td>\n",
       "        <td>10009</td>\n",
       "        <td>9</td>\n",
       "        <td>2021-07-10</td>\n",
       "    </tr>\n",
       "</table>"
      ],
      "text/plain": [
       "[(0, 10000, 0, '2020-12-26'),\n",
       " (1, 10001, 1, '2021-06-24'),\n",
       " (2, 10002, 2, '2021-03-20'),\n",
       " (3, 10003, 3, '2021-05-10'),\n",
       " (4, 10004, 4, '2021-04-18'),\n",
       " (5, 10005, 5, '2021-03-26'),\n",
       " (6, 10006, 6, '2021-07-03'),\n",
       " (7, 10007, 7, '2021-06-12'),\n",
       " (8, 10008, 8, '2020-12-13'),\n",
       " (9, 10009, 9, '2021-07-10')]"
      ]
     },
     "execution_count": 6,
     "metadata": {},
     "output_type": "execute_result"
    }
   ],
   "source": [
    "%%sql\n",
    "select *\n",
    "from users \n",
    "limit 10;"
   ]
  },
  {
   "cell_type": "code",
   "execution_count": 59,
   "id": "2204e2a6",
   "metadata": {},
   "outputs": [
    {
     "name": "stdout",
     "output_type": "stream",
     "text": [
      " * sqlite:///glovo.db\n",
      "Done.\n"
     ]
    },
    {
     "data": {
      "text/html": [
       "<table>\n",
       "    <tr>\n",
       "        <th>month</th>\n",
       "        <th>country_code</th>\n",
       "        <th>restaurant</th>\n",
       "        <th>position</th>\n",
       "    </tr>\n",
       "    <tr>\n",
       "        <td>2020-07</td>\n",
       "        <td>UK</td>\n",
       "        <td>46</td>\n",
       "        <td>43.18402777777778</td>\n",
       "    </tr>\n",
       "    <tr>\n",
       "        <td>2021-07</td>\n",
       "        <td>UK</td>\n",
       "        <td>11</td>\n",
       "        <td>44.046783625730995</td>\n",
       "    </tr>\n",
       "    <tr>\n",
       "        <td>2021-01</td>\n",
       "        <td>UK</td>\n",
       "        <td>14</td>\n",
       "        <td>44.85749385749386</td>\n",
       "    </tr>\n",
       "    <tr>\n",
       "        <td>2020-07</td>\n",
       "        <td>UK</td>\n",
       "        <td>94</td>\n",
       "        <td>44.979166666666664</td>\n",
       "    </tr>\n",
       "    <tr>\n",
       "        <td>2020-12</td>\n",
       "        <td>UK</td>\n",
       "        <td>6</td>\n",
       "        <td>45.0994623655914</td>\n",
       "    </tr>\n",
       "    <tr>\n",
       "        <td>2021-07</td>\n",
       "        <td>ES</td>\n",
       "        <td>10</td>\n",
       "        <td>45.14754098360656</td>\n",
       "    </tr>\n",
       "    <tr>\n",
       "        <td>2020-07</td>\n",
       "        <td>ES</td>\n",
       "        <td>61</td>\n",
       "        <td>45.149825783972126</td>\n",
       "    </tr>\n",
       "    <tr>\n",
       "        <td>2021-03</td>\n",
       "        <td>ES</td>\n",
       "        <td>96</td>\n",
       "        <td>45.20235294117647</td>\n",
       "    </tr>\n",
       "    <tr>\n",
       "        <td>2020-08</td>\n",
       "        <td>UK</td>\n",
       "        <td>51</td>\n",
       "        <td>45.31127450980392</td>\n",
       "    </tr>\n",
       "    <tr>\n",
       "        <td>2020-10</td>\n",
       "        <td>ES</td>\n",
       "        <td>79</td>\n",
       "        <td>45.37649880095923</td>\n",
       "    </tr>\n",
       "</table>"
      ],
      "text/plain": [
       "[('2020-07', 'UK', 46, 43.18402777777778),\n",
       " ('2021-07', 'UK', 11, 44.046783625730995),\n",
       " ('2021-01', 'UK', 14, 44.85749385749386),\n",
       " ('2020-07', 'UK', 94, 44.979166666666664),\n",
       " ('2020-12', 'UK', 6, 45.0994623655914),\n",
       " ('2021-07', 'ES', 10, 45.14754098360656),\n",
       " ('2020-07', 'ES', 61, 45.149825783972126),\n",
       " ('2021-03', 'ES', 96, 45.20235294117647),\n",
       " ('2020-08', 'UK', 51, 45.31127450980392),\n",
       " ('2020-10', 'ES', 79, 45.37649880095923)]"
      ]
     },
     "execution_count": 59,
     "metadata": {},
     "output_type": "execute_result"
    }
   ],
   "source": [
    "%%sql\n",
    "with ops as\n",
    "(select strftime('%Y-%m',creation_time) as month, \n",
    "json_extract(attributes_json, '$.country_code') as country_code,\n",
    "json_extract(attributes_json, '$.city_code') as city_code,\n",
    "json_extract(attributes_json, '$.stores_ids') as restaurants\n",
    "from events),\n",
    "restaurants as(\n",
    "    select *\n",
    "    from ops cross join json_each(ops.restaurants)\n",
    ")\n",
    "select month, country_code, value as restaurant, avg(key) as position\n",
    "from restaurants\n",
    "group by value, country_code, month\n",
    "order by position\n",
    "limit 10"
   ]
  },
  {
   "cell_type": "code",
   "execution_count": null,
   "id": "8b5cb40c",
   "metadata": {},
   "outputs": [],
   "source": []
  },
  {
   "cell_type": "code",
   "execution_count": 30,
   "id": "07e0679f",
   "metadata": {},
   "outputs": [
    {
     "name": "stdout",
     "output_type": "stream",
     "text": [
      " * sqlite:///glovo.db\n",
      "Done.\n"
     ]
    },
    {
     "data": {
      "text/html": [
       "<table>\n",
       "    <tr>\n",
       "        <th>reg_y</th>\n",
       "        <th>reg_w</th>\n",
       "        <th>n_weeks</th>\n",
       "        <th>num</th>\n",
       "    </tr>\n",
       "    <tr>\n",
       "        <td>2020</td>\n",
       "        <td>27</td>\n",
       "        <td>1</td>\n",
       "        <td>21</td>\n",
       "    </tr>\n",
       "    <tr>\n",
       "        <td>2020</td>\n",
       "        <td>27</td>\n",
       "        <td>5</td>\n",
       "        <td>2</td>\n",
       "    </tr>\n",
       "    <tr>\n",
       "        <td>2020</td>\n",
       "        <td>27</td>\n",
       "        <td>6</td>\n",
       "        <td>1</td>\n",
       "    </tr>\n",
       "    <tr>\n",
       "        <td>2020</td>\n",
       "        <td>27</td>\n",
       "        <td>7</td>\n",
       "        <td>1</td>\n",
       "    </tr>\n",
       "    <tr>\n",
       "        <td>2020</td>\n",
       "        <td>27</td>\n",
       "        <td>12</td>\n",
       "        <td>1</td>\n",
       "    </tr>\n",
       "    <tr>\n",
       "        <td>2020</td>\n",
       "        <td>27</td>\n",
       "        <td>19</td>\n",
       "        <td>2</td>\n",
       "    </tr>\n",
       "    <tr>\n",
       "        <td>2020</td>\n",
       "        <td>27</td>\n",
       "        <td>20</td>\n",
       "        <td>1</td>\n",
       "    </tr>\n",
       "    <tr>\n",
       "        <td>2020</td>\n",
       "        <td>28</td>\n",
       "        <td>0</td>\n",
       "        <td>2</td>\n",
       "    </tr>\n",
       "    <tr>\n",
       "        <td>2020</td>\n",
       "        <td>28</td>\n",
       "        <td>1</td>\n",
       "        <td>118</td>\n",
       "    </tr>\n",
       "    <tr>\n",
       "        <td>2020</td>\n",
       "        <td>28</td>\n",
       "        <td>2</td>\n",
       "        <td>5</td>\n",
       "    </tr>\n",
       "    <tr>\n",
       "        <td>2020</td>\n",
       "        <td>28</td>\n",
       "        <td>3</td>\n",
       "        <td>5</td>\n",
       "    </tr>\n",
       "    <tr>\n",
       "        <td>2020</td>\n",
       "        <td>28</td>\n",
       "        <td>4</td>\n",
       "        <td>3</td>\n",
       "    </tr>\n",
       "    <tr>\n",
       "        <td>2020</td>\n",
       "        <td>28</td>\n",
       "        <td>6</td>\n",
       "        <td>3</td>\n",
       "    </tr>\n",
       "    <tr>\n",
       "        <td>2020</td>\n",
       "        <td>28</td>\n",
       "        <td>7</td>\n",
       "        <td>2</td>\n",
       "    </tr>\n",
       "    <tr>\n",
       "        <td>2020</td>\n",
       "        <td>28</td>\n",
       "        <td>9</td>\n",
       "        <td>3</td>\n",
       "    </tr>\n",
       "    <tr>\n",
       "        <td>2020</td>\n",
       "        <td>28</td>\n",
       "        <td>10</td>\n",
       "        <td>5</td>\n",
       "    </tr>\n",
       "    <tr>\n",
       "        <td>2020</td>\n",
       "        <td>28</td>\n",
       "        <td>11</td>\n",
       "        <td>4</td>\n",
       "    </tr>\n",
       "    <tr>\n",
       "        <td>2020</td>\n",
       "        <td>28</td>\n",
       "        <td>12</td>\n",
       "        <td>2</td>\n",
       "    </tr>\n",
       "    <tr>\n",
       "        <td>2020</td>\n",
       "        <td>28</td>\n",
       "        <td>13</td>\n",
       "        <td>6</td>\n",
       "    </tr>\n",
       "    <tr>\n",
       "        <td>2020</td>\n",
       "        <td>28</td>\n",
       "        <td>14</td>\n",
       "        <td>1</td>\n",
       "    </tr>\n",
       "    <tr>\n",
       "        <td>2020</td>\n",
       "        <td>28</td>\n",
       "        <td>16</td>\n",
       "        <td>2</td>\n",
       "    </tr>\n",
       "    <tr>\n",
       "        <td>2020</td>\n",
       "        <td>28</td>\n",
       "        <td>17</td>\n",
       "        <td>4</td>\n",
       "    </tr>\n",
       "    <tr>\n",
       "        <td>2020</td>\n",
       "        <td>28</td>\n",
       "        <td>18</td>\n",
       "        <td>7</td>\n",
       "    </tr>\n",
       "    <tr>\n",
       "        <td>2020</td>\n",
       "        <td>28</td>\n",
       "        <td>19</td>\n",
       "        <td>2</td>\n",
       "    </tr>\n",
       "    <tr>\n",
       "        <td>2020</td>\n",
       "        <td>28</td>\n",
       "        <td>20</td>\n",
       "        <td>3</td>\n",
       "    </tr>\n",
       "    <tr>\n",
       "        <td>2020</td>\n",
       "        <td>28</td>\n",
       "        <td>21</td>\n",
       "        <td>4</td>\n",
       "    </tr>\n",
       "    <tr>\n",
       "        <td>2020</td>\n",
       "        <td>28</td>\n",
       "        <td>22</td>\n",
       "        <td>2</td>\n",
       "    </tr>\n",
       "    <tr>\n",
       "        <td>2020</td>\n",
       "        <td>28</td>\n",
       "        <td>23</td>\n",
       "        <td>1</td>\n",
       "    </tr>\n",
       "    <tr>\n",
       "        <td>2020</td>\n",
       "        <td>28</td>\n",
       "        <td>24</td>\n",
       "        <td>7</td>\n",
       "    </tr>\n",
       "    <tr>\n",
       "        <td>2020</td>\n",
       "        <td>29</td>\n",
       "        <td>0</td>\n",
       "        <td>1</td>\n",
       "    </tr>\n",
       "</table>"
      ],
      "text/plain": [
       "[('2020', '27', 1, 21),\n",
       " ('2020', '27', 5, 2),\n",
       " ('2020', '27', 6, 1),\n",
       " ('2020', '27', 7, 1),\n",
       " ('2020', '27', 12, 1),\n",
       " ('2020', '27', 19, 2),\n",
       " ('2020', '27', 20, 1),\n",
       " ('2020', '28', 0, 2),\n",
       " ('2020', '28', 1, 118),\n",
       " ('2020', '28', 2, 5),\n",
       " ('2020', '28', 3, 5),\n",
       " ('2020', '28', 4, 3),\n",
       " ('2020', '28', 6, 3),\n",
       " ('2020', '28', 7, 2),\n",
       " ('2020', '28', 9, 3),\n",
       " ('2020', '28', 10, 5),\n",
       " ('2020', '28', 11, 4),\n",
       " ('2020', '28', 12, 2),\n",
       " ('2020', '28', 13, 6),\n",
       " ('2020', '28', 14, 1),\n",
       " ('2020', '28', 16, 2),\n",
       " ('2020', '28', 17, 4),\n",
       " ('2020', '28', 18, 7),\n",
       " ('2020', '28', 19, 2),\n",
       " ('2020', '28', 20, 3),\n",
       " ('2020', '28', 21, 4),\n",
       " ('2020', '28', 22, 2),\n",
       " ('2020', '28', 23, 1),\n",
       " ('2020', '28', 24, 7),\n",
       " ('2020', '29', 0, 1)]"
      ]
     },
     "execution_count": 30,
     "metadata": {},
     "output_type": "execute_result"
    }
   ],
   "source": [
    "%%sql\n",
    "with fechas as\n",
    "(select users.id as user_id, \n",
    "  registration_date, \n",
    "  activation_time_local first_order_date, \n",
    "  strftime('%Y', registration_date) reg_y, \n",
    "  strftime('%W', registration_date) reg_w,\n",
    "  strftime('%Y', activation_time_local) first_y, \n",
    "  strftime('%W', activation_time_local) first_w\n",
    "from users inner join orders on users.first_order_id = orders.id)\n",
    "select reg_y,reg_w,\n",
    "  case when reg_y = first_y then first_w -reg_w else 1 end as n_weeks, count(*) as num\n",
    "from fechas\n",
    "group by reg_y,reg_w,\n",
    "  case when reg_y = first_y then first_w -reg_w else 1 end\n",
    "order by  reg_y,reg_w, n_weeks\n",
    "limit 30"
   ]
  },
  {
   "cell_type": "code",
   "execution_count": 11,
   "id": "6b502e59",
   "metadata": {},
   "outputs": [
    {
     "name": "stdout",
     "output_type": "stream",
     "text": [
      " * sqlite:///glovo.db\n",
      "Done.\n"
     ]
    },
    {
     "data": {
      "text/html": [
       "<table>\n",
       "    <tr>\n",
       "        <th>id</th>\n",
       "        <th>pickup_distance</th>\n",
       "        <th>delivery_distance</th>\n",
       "    </tr>\n",
       "    <tr>\n",
       "        <td>0</td>\n",
       "        <td>0.02281087056055513</td>\n",
       "        <td>0.04025315059454986</td>\n",
       "    </tr>\n",
       "    <tr>\n",
       "        <td>1</td>\n",
       "        <td>0.015595566555587456</td>\n",
       "        <td>0.015114367300566376</td>\n",
       "    </tr>\n",
       "    <tr>\n",
       "        <td>2</td>\n",
       "        <td>0.027100663149330306</td>\n",
       "        <td>0.030028001498727194</td>\n",
       "    </tr>\n",
       "    <tr>\n",
       "        <td>3</td>\n",
       "        <td>0.01717774856431793</td>\n",
       "        <td>0.0015161342811099252</td>\n",
       "    </tr>\n",
       "    <tr>\n",
       "        <td>4</td>\n",
       "        <td>0.027733370184139187</td>\n",
       "        <td>0.010853266398571065</td>\n",
       "    </tr>\n",
       "    <tr>\n",
       "        <td>5</td>\n",
       "        <td>0.013913684494746822</td>\n",
       "        <td>0.032123148731159866</td>\n",
       "    </tr>\n",
       "    <tr>\n",
       "        <td>6</td>\n",
       "        <td>0.008926647666995026</td>\n",
       "        <td>0.012425454472648416</td>\n",
       "    </tr>\n",
       "    <tr>\n",
       "        <td>7</td>\n",
       "        <td>0.04345347631799838</td>\n",
       "        <td>0.01071665472953692</td>\n",
       "    </tr>\n",
       "    <tr>\n",
       "        <td>8</td>\n",
       "        <td>0.010766821540085457</td>\n",
       "        <td>0.03094654434725825</td>\n",
       "    </tr>\n",
       "    <tr>\n",
       "        <td>9</td>\n",
       "        <td>0.03246394293608333</td>\n",
       "        <td>0.03676898759761316</td>\n",
       "    </tr>\n",
       "</table>"
      ],
      "text/plain": [
       "[(0, 0.02281087056055513, 0.04025315059454986),\n",
       " (1, 0.015595566555587456, 0.015114367300566376),\n",
       " (2, 0.027100663149330306, 0.030028001498727194),\n",
       " (3, 0.01717774856431793, 0.0015161342811099252),\n",
       " (4, 0.027733370184139187, 0.010853266398571065),\n",
       " (5, 0.013913684494746822, 0.032123148731159866),\n",
       " (6, 0.008926647666995026, 0.012425454472648416),\n",
       " (7, 0.04345347631799838, 0.01071665472953692),\n",
       " (8, 0.010766821540085457, 0.03094654434725825),\n",
       " (9, 0.03246394293608333, 0.03676898759761316)]"
      ]
     },
     "execution_count": 11,
     "metadata": {},
     "output_type": "execute_result"
    }
   ],
   "source": [
    "%%sql\n",
    "with order_locations as\n",
    "(select order_id,\n",
    "sum(case when point_type = 'DELIVERY' then latitude end) as delivery_latitude,\n",
    "sum(case when point_type = 'PICKUP' then latitude end) as pickup_latitude,\n",
    "sum(case when point_type = 'DELIVERY' then longitude end) as delivery_longitude,\n",
    "sum(case when point_type = 'PICKUP' then longitude end) as pickup_longitude\n",
    "from order_points\n",
    "group by order_id)\n",
    "select o.id, sqrt(pow(acceptance_latitude - pickup_latitude,2) + pow(acceptance_longitude - pickup_longitude,2)) as pickup_distance,\n",
    "sqrt(pow(delivery_latitude - pickup_latitude,2) + pow(delivery_longitude - pickup_longitude,2)) as delivery_distance\n",
    "from orders o inner join order_locations p on p.order_id = o.id\n",
    "limit 10"
   ]
  },
  {
   "cell_type": "code",
   "execution_count": 22,
   "id": "79b47680",
   "metadata": {},
   "outputs": [
    {
     "name": "stdout",
     "output_type": "stream",
     "text": [
      " * sqlite:///glovo.db\n",
      "Done.\n"
     ]
    },
    {
     "data": {
      "text/html": [
       "<table>\n",
       "    <tr>\n",
       "        <th>id</th>\n",
       "        <th>distance</th>\n",
       "    </tr>\n",
       "    <tr>\n",
       "        <td>0</td>\n",
       "        <td>0.02281087056055513</td>\n",
       "    </tr>\n",
       "    <tr>\n",
       "        <td>0</td>\n",
       "        <td>0.01781972158058553</td>\n",
       "    </tr>\n",
       "    <tr>\n",
       "        <td>1</td>\n",
       "        <td>0.0029401797954782998</td>\n",
       "    </tr>\n",
       "    <tr>\n",
       "        <td>1</td>\n",
       "        <td>0.015595566555587456</td>\n",
       "    </tr>\n",
       "    <tr>\n",
       "        <td>2</td>\n",
       "        <td>0.027100663149330306</td>\n",
       "    </tr>\n",
       "    <tr>\n",
       "        <td>2</td>\n",
       "        <td>0.004727781178394607</td>\n",
       "    </tr>\n",
       "    <tr>\n",
       "        <td>3</td>\n",
       "        <td>0.01717774856431793</td>\n",
       "    </tr>\n",
       "    <tr>\n",
       "        <td>3</td>\n",
       "        <td>0.01828479621467412</td>\n",
       "    </tr>\n",
       "    <tr>\n",
       "        <td>4</td>\n",
       "        <td>0.027733370184139187</td>\n",
       "    </tr>\n",
       "    <tr>\n",
       "        <td>4</td>\n",
       "        <td>0.03857206112975395</td>\n",
       "    </tr>\n",
       "</table>"
      ],
      "text/plain": [
       "[(0, 0.02281087056055513),\n",
       " (0, 0.01781972158058553),\n",
       " (1, 0.0029401797954782998),\n",
       " (1, 0.015595566555587456),\n",
       " (2, 0.027100663149330306),\n",
       " (2, 0.004727781178394607),\n",
       " (3, 0.01717774856431793),\n",
       " (3, 0.01828479621467412),\n",
       " (4, 0.027733370184139187),\n",
       " (4, 0.03857206112975395)]"
      ]
     },
     "execution_count": 22,
     "metadata": {},
     "output_type": "execute_result"
    }
   ],
   "source": [
    "%%sql\n",
    "select o.id, sqrt(pow(acceptance_latitude - latitude,2) + pow(acceptance_longitude - longitude,2)) as distance\n",
    "from orders o inner join order_points p on p.order_id = o.id\n",
    "limit 10"
   ]
  },
  {
   "cell_type": "code",
   "execution_count": 20,
   "id": "67f7d03e",
   "metadata": {},
   "outputs": [
    {
     "name": "stdout",
     "output_type": "stream",
     "text": [
      " * sqlite:///glovo.db\n",
      "Done.\n"
     ]
    },
    {
     "data": {
      "text/html": [
       "<table>\n",
       "    <tr>\n",
       "        <th>strftime(&#x27;%Y&#x27;, date(&#x27;now&#x27;))</th>\n",
       "        <th>week</th>\n",
       "    </tr>\n",
       "    <tr>\n",
       "        <td>2021</td>\n",
       "        <td>28</td>\n",
       "    </tr>\n",
       "</table>"
      ],
      "text/plain": [
       "[('2021', '28')]"
      ]
     },
     "execution_count": 20,
     "metadata": {},
     "output_type": "execute_result"
    }
   ],
   "source": [
    "%%sql\n",
    "SELECT strftime('%Y', date('now')), strftime('%W', date('now')) week, rank() partition ;"
   ]
  },
  {
   "cell_type": "code",
   "execution_count": null,
   "id": "861a5e0b",
   "metadata": {},
   "outputs": [],
   "source": [
    "%%sql\n",
    "select *\n",
    "from "
   ]
  },
  {
   "cell_type": "code",
   "execution_count": 18,
   "id": "1e097b13",
   "metadata": {},
   "outputs": [
    {
     "name": "stdout",
     "output_type": "stream",
     "text": [
      " * sqlite:///glovo.db\n",
      "Done.\n"
     ]
    },
    {
     "data": {
      "text/html": [
       "<table>\n",
       "    <tr>\n",
       "        <th>pow(4,2)</th>\n",
       "    </tr>\n",
       "    <tr>\n",
       "        <td>16.0</td>\n",
       "    </tr>\n",
       "</table>"
      ],
      "text/plain": [
       "[(16.0,)]"
      ]
     },
     "execution_count": 18,
     "metadata": {},
     "output_type": "execute_result"
    }
   ],
   "source": [
    "%%sql \n",
    "select pow(4,2) from users limit 1"
   ]
  },
  {
   "cell_type": "code",
   "execution_count": 3,
   "id": "f7bd57ec",
   "metadata": {},
   "outputs": [],
   "source": [
    "import sqlite3"
   ]
  },
  {
   "cell_type": "code",
   "execution_count": 4,
   "id": "a14c7241",
   "metadata": {},
   "outputs": [
    {
     "data": {
      "text/plain": [
       "'2.6.0'"
      ]
     },
     "execution_count": 4,
     "metadata": {},
     "output_type": "execute_result"
    }
   ],
   "source": [
    "sqlite3.version"
   ]
  },
  {
   "cell_type": "code",
   "execution_count": 5,
   "id": "42f62f05",
   "metadata": {},
   "outputs": [
    {
     "data": {
      "text/plain": [
       "'3.36.0'"
      ]
     },
     "execution_count": 5,
     "metadata": {},
     "output_type": "execute_result"
    }
   ],
   "source": [
    "sqlite3.sqlite_version"
   ]
  },
  {
   "cell_type": "code",
   "execution_count": null,
   "id": "0cd9a8ba",
   "metadata": {},
   "outputs": [],
   "source": []
  }
 ],
 "metadata": {
  "kernelspec": {
   "display_name": "Ironhack",
   "language": "python",
   "name": "ironhack"
  },
  "language_info": {
   "codemirror_mode": {
    "name": "ipython",
    "version": 3
   },
   "file_extension": ".py",
   "mimetype": "text/x-python",
   "name": "python",
   "nbconvert_exporter": "python",
   "pygments_lexer": "ipython3",
   "version": "3.7.3"
  },
  "toc": {
   "base_numbering": 1,
   "nav_menu": {},
   "number_sections": true,
   "sideBar": true,
   "skip_h1_title": false,
   "title_cell": "Table of Contents",
   "title_sidebar": "Contents",
   "toc_cell": true,
   "toc_position": {},
   "toc_section_display": true,
   "toc_window_display": false
  },
  "varInspector": {
   "cols": {
    "lenName": 16,
    "lenType": 16,
    "lenVar": 40
   },
   "kernels_config": {
    "python": {
     "delete_cmd_postfix": "",
     "delete_cmd_prefix": "del ",
     "library": "var_list.py",
     "varRefreshCmd": "print(var_dic_list())"
    },
    "r": {
     "delete_cmd_postfix": ") ",
     "delete_cmd_prefix": "rm(",
     "library": "var_list.r",
     "varRefreshCmd": "cat(var_dic_list()) "
    }
   },
   "types_to_exclude": [
    "module",
    "function",
    "builtin_function_or_method",
    "instance",
    "_Feature"
   ],
   "window_display": false
  }
 },
 "nbformat": 4,
 "nbformat_minor": 5
}
