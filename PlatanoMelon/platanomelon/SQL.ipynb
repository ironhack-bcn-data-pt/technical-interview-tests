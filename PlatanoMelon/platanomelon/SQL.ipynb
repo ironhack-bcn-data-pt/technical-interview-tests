{
 "cells": [
  {
   "cell_type": "markdown",
   "metadata": {
    "toc": true
   },
   "source": [
    "<h1>Table of Contents<span class=\"tocSkip\"></span></h1>\n",
    "<div class=\"toc\"><ul class=\"toc-item\"><li><span><a href=\"#SQL-QUERY\" data-toc-modified-id=\"SQL-QUERY-1\"><span class=\"toc-item-num\">1&nbsp;&nbsp;</span>SQL QUERY</a></span><ul class=\"toc-item\"><li><span><a href=\"#Load-files\" data-toc-modified-id=\"Load-files-1.1\"><span class=\"toc-item-num\">1.1&nbsp;&nbsp;</span>Load files</a></span></li><li><span><a href=\"#Create-DB\" data-toc-modified-id=\"Create-DB-1.2\"><span class=\"toc-item-num\">1.2&nbsp;&nbsp;</span>Create DB</a></span></li><li><span><a href=\"#Orders-per-day\" data-toc-modified-id=\"Orders-per-day-1.3\"><span class=\"toc-item-num\">1.3&nbsp;&nbsp;</span>Orders per day</a></span></li><li><span><a href=\"#Sales-per-day\" data-toc-modified-id=\"Sales-per-day-1.4\"><span class=\"toc-item-num\">1.4&nbsp;&nbsp;</span>Sales per day</a></span></li><li><span><a href=\"#Top-selling-product\" data-toc-modified-id=\"Top-selling-product-1.5\"><span class=\"toc-item-num\">1.5&nbsp;&nbsp;</span>Top selling product</a></span></li><li><span><a href=\"#Percentage-of-orders-with-discount-codes\" data-toc-modified-id=\"Percentage-of-orders-with-discount-codes-1.6\"><span class=\"toc-item-num\">1.6&nbsp;&nbsp;</span>Percentage of orders with discount codes</a></span></li><li><span><a href=\"#Percentage-of-orders-with-product-SKU-PM591\" data-toc-modified-id=\"Percentage-of-orders-with-product-SKU-PM591-1.7\"><span class=\"toc-item-num\">1.7&nbsp;&nbsp;</span>Percentage of orders with product SKU PM591</a></span></li><li><span><a href=\"#Hour-of-day-people-buy-most-products\" data-toc-modified-id=\"Hour-of-day-people-buy-most-products-1.8\"><span class=\"toc-item-num\">1.8&nbsp;&nbsp;</span>Hour of day people buy most products</a></span></li></ul></li></ul></div>"
   ]
  },
  {
   "cell_type": "markdown",
   "metadata": {},
   "source": [
    "# SQL QUERY"
   ]
  },
  {
   "cell_type": "code",
   "execution_count": 9,
   "metadata": {},
   "outputs": [],
   "source": [
    "import sqlite3\n",
    "import pandas as pd"
   ]
  },
  {
   "cell_type": "markdown",
   "metadata": {},
   "source": [
    "## Load files"
   ]
  },
  {
   "cell_type": "code",
   "execution_count": 12,
   "metadata": {},
   "outputs": [],
   "source": [
    "orders = pd.read_csv('platanomelon/orders.csv')"
   ]
  },
  {
   "cell_type": "code",
   "execution_count": 6,
   "metadata": {},
   "outputs": [
    {
     "data": {
      "text/html": [
       "<div>\n",
       "<style scoped>\n",
       "    .dataframe tbody tr th:only-of-type {\n",
       "        vertical-align: middle;\n",
       "    }\n",
       "\n",
       "    .dataframe tbody tr th {\n",
       "        vertical-align: top;\n",
       "    }\n",
       "\n",
       "    .dataframe thead th {\n",
       "        text-align: right;\n",
       "    }\n",
       "</style>\n",
       "<table border=\"1\" class=\"dataframe\">\n",
       "  <thead>\n",
       "    <tr style=\"text-align: right;\">\n",
       "      <th></th>\n",
       "      <th>created_at</th>\n",
       "      <th>order_number</th>\n",
       "      <th>sku</th>\n",
       "      <th>total_order_price</th>\n",
       "      <th>discount_code</th>\n",
       "    </tr>\n",
       "  </thead>\n",
       "  <tbody>\n",
       "    <tr>\n",
       "      <th>0</th>\n",
       "      <td>2020-11-17 09:17:04+00:00</td>\n",
       "      <td>9156</td>\n",
       "      <td>73PM419</td>\n",
       "      <td>54</td>\n",
       "      <td>NaN</td>\n",
       "    </tr>\n",
       "    <tr>\n",
       "      <th>1</th>\n",
       "      <td>2020-11-17 09:17:04+00:00</td>\n",
       "      <td>9156</td>\n",
       "      <td>730508</td>\n",
       "      <td>54</td>\n",
       "      <td>NaN</td>\n",
       "    </tr>\n",
       "    <tr>\n",
       "      <th>2</th>\n",
       "      <td>2020-11-17 09:17:04+00:00</td>\n",
       "      <td>9156</td>\n",
       "      <td>730504</td>\n",
       "      <td>54</td>\n",
       "      <td>NaN</td>\n",
       "    </tr>\n",
       "    <tr>\n",
       "      <th>3</th>\n",
       "      <td>2020-11-17 09:17:04+00:00</td>\n",
       "      <td>9156</td>\n",
       "      <td>PM591</td>\n",
       "      <td>54</td>\n",
       "      <td>NaN</td>\n",
       "    </tr>\n",
       "    <tr>\n",
       "      <th>4</th>\n",
       "      <td>2020-11-17 09:17:04+00:00</td>\n",
       "      <td>9156</td>\n",
       "      <td>LUBMONO1</td>\n",
       "      <td>54</td>\n",
       "      <td>NaN</td>\n",
       "    </tr>\n",
       "    <tr>\n",
       "      <th>...</th>\n",
       "      <td>...</td>\n",
       "      <td>...</td>\n",
       "      <td>...</td>\n",
       "      <td>...</td>\n",
       "      <td>...</td>\n",
       "    </tr>\n",
       "    <tr>\n",
       "      <th>24409</th>\n",
       "      <td>2020-11-11 00:02:05+00:00</td>\n",
       "      <td>570</td>\n",
       "      <td>LUBMONO1</td>\n",
       "      <td>75</td>\n",
       "      <td>EW76A8</td>\n",
       "    </tr>\n",
       "    <tr>\n",
       "      <th>24410</th>\n",
       "      <td>2020-11-11 00:02:05+00:00</td>\n",
       "      <td>570</td>\n",
       "      <td>PM591</td>\n",
       "      <td>75</td>\n",
       "      <td>EW76A8</td>\n",
       "    </tr>\n",
       "    <tr>\n",
       "      <th>24411</th>\n",
       "      <td>2020-11-11 00:00:55+00:00</td>\n",
       "      <td>569</td>\n",
       "      <td>PILAS-AA-4</td>\n",
       "      <td>50</td>\n",
       "      <td>NaN</td>\n",
       "    </tr>\n",
       "    <tr>\n",
       "      <th>24412</th>\n",
       "      <td>2020-11-11 00:00:55+00:00</td>\n",
       "      <td>569</td>\n",
       "      <td>73PM413</td>\n",
       "      <td>50</td>\n",
       "      <td>NaN</td>\n",
       "    </tr>\n",
       "    <tr>\n",
       "      <th>24413</th>\n",
       "      <td>2020-11-11 00:00:55+00:00</td>\n",
       "      <td>569</td>\n",
       "      <td>LUBMONO1</td>\n",
       "      <td>50</td>\n",
       "      <td>NaN</td>\n",
       "    </tr>\n",
       "  </tbody>\n",
       "</table>\n",
       "<p>24414 rows × 5 columns</p>\n",
       "</div>"
      ],
      "text/plain": [
       "                      created_at  order_number         sku  total_order_price  \\\n",
       "0      2020-11-17 09:17:04+00:00          9156     73PM419                 54   \n",
       "1      2020-11-17 09:17:04+00:00          9156      730508                 54   \n",
       "2      2020-11-17 09:17:04+00:00          9156      730504                 54   \n",
       "3      2020-11-17 09:17:04+00:00          9156       PM591                 54   \n",
       "4      2020-11-17 09:17:04+00:00          9156    LUBMONO1                 54   \n",
       "...                          ...           ...         ...                ...   \n",
       "24409  2020-11-11 00:02:05+00:00           570    LUBMONO1                 75   \n",
       "24410  2020-11-11 00:02:05+00:00           570       PM591                 75   \n",
       "24411  2020-11-11 00:00:55+00:00           569  PILAS-AA-4                 50   \n",
       "24412  2020-11-11 00:00:55+00:00           569     73PM413                 50   \n",
       "24413  2020-11-11 00:00:55+00:00           569    LUBMONO1                 50   \n",
       "\n",
       "      discount_code  \n",
       "0               NaN  \n",
       "1               NaN  \n",
       "2               NaN  \n",
       "3               NaN  \n",
       "4               NaN  \n",
       "...             ...  \n",
       "24409        EW76A8  \n",
       "24410        EW76A8  \n",
       "24411           NaN  \n",
       "24412           NaN  \n",
       "24413           NaN  \n",
       "\n",
       "[24414 rows x 5 columns]"
      ]
     },
     "execution_count": 6,
     "metadata": {},
     "output_type": "execute_result"
    }
   ],
   "source": [
    "orders"
   ]
  },
  {
   "cell_type": "code",
   "execution_count": 14,
   "metadata": {},
   "outputs": [],
   "source": [
    "price_analytics = pd.read_csv('price_analytics.csv', index_col=0)"
   ]
  },
  {
   "cell_type": "code",
   "execution_count": 15,
   "metadata": {},
   "outputs": [
    {
     "data": {
      "text/html": [
       "<div>\n",
       "<style scoped>\n",
       "    .dataframe tbody tr th:only-of-type {\n",
       "        vertical-align: middle;\n",
       "    }\n",
       "\n",
       "    .dataframe tbody tr th {\n",
       "        vertical-align: top;\n",
       "    }\n",
       "\n",
       "    .dataframe thead th {\n",
       "        text-align: right;\n",
       "    }\n",
       "</style>\n",
       "<table border=\"1\" class=\"dataframe\">\n",
       "  <thead>\n",
       "    <tr style=\"text-align: right;\">\n",
       "      <th></th>\n",
       "      <th>Date</th>\n",
       "      <th>sku</th>\n",
       "      <th>unit_price</th>\n",
       "      <th>units</th>\n",
       "    </tr>\n",
       "  </thead>\n",
       "  <tbody>\n",
       "    <tr>\n",
       "      <th>0</th>\n",
       "      <td>Feb 15, 2021</td>\n",
       "      <td>M735H7159</td>\n",
       "      <td>55.71</td>\n",
       "      <td>262.0</td>\n",
       "    </tr>\n",
       "    <tr>\n",
       "      <th>1</th>\n",
       "      <td>Feb 15, 2021</td>\n",
       "      <td>3637H1617</td>\n",
       "      <td>140.36</td>\n",
       "      <td>5.0</td>\n",
       "    </tr>\n",
       "    <tr>\n",
       "      <th>2</th>\n",
       "      <td>Feb 15, 2021</td>\n",
       "      <td>P036H2062</td>\n",
       "      <td>68.03</td>\n",
       "      <td>13.0</td>\n",
       "    </tr>\n",
       "    <tr>\n",
       "      <th>3</th>\n",
       "      <td>Feb 15, 2021</td>\n",
       "      <td>M630H8980</td>\n",
       "      <td>49.77</td>\n",
       "      <td>186.0</td>\n",
       "    </tr>\n",
       "    <tr>\n",
       "      <th>4</th>\n",
       "      <td>Feb 15, 2021</td>\n",
       "      <td>P037H2072</td>\n",
       "      <td>68.03</td>\n",
       "      <td>5.0</td>\n",
       "    </tr>\n",
       "    <tr>\n",
       "      <th>...</th>\n",
       "      <td>...</td>\n",
       "      <td>...</td>\n",
       "      <td>...</td>\n",
       "      <td>...</td>\n",
       "    </tr>\n",
       "    <tr>\n",
       "      <th>1666</th>\n",
       "      <td>Jul 31, 2020</td>\n",
       "      <td>P036H2068</td>\n",
       "      <td>94.57</td>\n",
       "      <td>5.0</td>\n",
       "    </tr>\n",
       "    <tr>\n",
       "      <th>1667</th>\n",
       "      <td>Jul 31, 2020</td>\n",
       "      <td>P036H2067</td>\n",
       "      <td>81.01</td>\n",
       "      <td>5.0</td>\n",
       "    </tr>\n",
       "    <tr>\n",
       "      <th>1668</th>\n",
       "      <td>Jul 31, 2020</td>\n",
       "      <td>P036H2062</td>\n",
       "      <td>59.05</td>\n",
       "      <td>29.0</td>\n",
       "    </tr>\n",
       "    <tr>\n",
       "      <th>1669</th>\n",
       "      <td>Jul 31, 2020</td>\n",
       "      <td>M630H8980</td>\n",
       "      <td>49.90</td>\n",
       "      <td>363.0</td>\n",
       "    </tr>\n",
       "    <tr>\n",
       "      <th>1670</th>\n",
       "      <td>Jul 31, 2020</td>\n",
       "      <td>2734H9994</td>\n",
       "      <td>24.11</td>\n",
       "      <td>9.0</td>\n",
       "    </tr>\n",
       "  </tbody>\n",
       "</table>\n",
       "<p>1671 rows × 4 columns</p>\n",
       "</div>"
      ],
      "text/plain": [
       "              Date        sku  unit_price  units\n",
       "0     Feb 15, 2021  M735H7159       55.71  262.0\n",
       "1     Feb 15, 2021  3637H1617      140.36    5.0\n",
       "2     Feb 15, 2021  P036H2062       68.03   13.0\n",
       "3     Feb 15, 2021  M630H8980       49.77  186.0\n",
       "4     Feb 15, 2021  P037H2072       68.03    5.0\n",
       "...            ...        ...         ...    ...\n",
       "1666  Jul 31, 2020  P036H2068       94.57    5.0\n",
       "1667  Jul 31, 2020  P036H2067       81.01    5.0\n",
       "1668  Jul 31, 2020  P036H2062       59.05   29.0\n",
       "1669  Jul 31, 2020  M630H8980       49.90  363.0\n",
       "1670  Jul 31, 2020  2734H9994       24.11    9.0\n",
       "\n",
       "[1671 rows x 4 columns]"
      ]
     },
     "execution_count": 15,
     "metadata": {},
     "output_type": "execute_result"
    }
   ],
   "source": [
    "price_analytics"
   ]
  },
  {
   "cell_type": "markdown",
   "metadata": {},
   "source": [
    "## Create DB"
   ]
  },
  {
   "cell_type": "code",
   "execution_count": 16,
   "metadata": {},
   "outputs": [],
   "source": [
    "db = 'sqlite:///data.db'"
   ]
  },
  {
   "cell_type": "code",
   "execution_count": 17,
   "metadata": {},
   "outputs": [],
   "source": [
    "orders.to_sql('orders', db)"
   ]
  },
  {
   "cell_type": "code",
   "execution_count": 18,
   "metadata": {},
   "outputs": [],
   "source": [
    "price_analytics.to_sql('price_analytics', db)"
   ]
  },
  {
   "cell_type": "code",
   "execution_count": 14,
   "metadata": {},
   "outputs": [],
   "source": [
    "%load_ext sql"
   ]
  },
  {
   "cell_type": "code",
   "execution_count": 16,
   "metadata": {
    "jupyter": {
     "source_hidden": true
    }
   },
   "outputs": [],
   "source": [
    "%sql sqlite:////Users/tinkerbell/ironhack/Platanomelon/platanomelon/data.db"
   ]
  },
  {
   "cell_type": "code",
   "execution_count": null,
   "metadata": {},
   "outputs": [],
   "source": []
  },
  {
   "cell_type": "code",
   "execution_count": 28,
   "metadata": {},
   "outputs": [],
   "source": [
    "# !pip install -U ipython-sql"
   ]
  },
  {
   "cell_type": "code",
   "execution_count": 1,
   "metadata": {},
   "outputs": [],
   "source": [
    "# !pip install prettytable==0.7.2"
   ]
  },
  {
   "cell_type": "code",
   "execution_count": 43,
   "metadata": {},
   "outputs": [
    {
     "name": "stdout",
     "output_type": "stream",
     "text": [
      "The sql extension is already loaded. To reload it, use:\n",
      "  %reload_ext sql\n"
     ]
    }
   ],
   "source": [
    "%load_ext sql"
   ]
  },
  {
   "cell_type": "code",
   "execution_count": 46,
   "metadata": {},
   "outputs": [],
   "source": [
    "import prettytable"
   ]
  },
  {
   "cell_type": "code",
   "execution_count": 47,
   "metadata": {},
   "outputs": [
    {
     "data": {
      "text/plain": [
       "{'__name__': 'prettytable',\n",
       " '__doc__': None,\n",
       " '__package__': 'prettytable',\n",
       " '__loader__': <_frozen_importlib_external.SourceFileLoader at 0x115f76978>,\n",
       " '__spec__': ModuleSpec(name='prettytable', loader=<_frozen_importlib_external.SourceFileLoader object at 0x115f76978>, origin='/Users/alberto/.local/share/virtualenvs/notebooks-LWRlkxsC/lib/python3.7/site-packages/prettytable/__init__.py', submodule_search_locations=['/Users/alberto/.local/share/virtualenvs/notebooks-LWRlkxsC/lib/python3.7/site-packages/prettytable']),\n",
       " '__path__': ['/Users/alberto/.local/share/virtualenvs/notebooks-LWRlkxsC/lib/python3.7/site-packages/prettytable'],\n",
       " '__file__': '/Users/alberto/.local/share/virtualenvs/notebooks-LWRlkxsC/lib/python3.7/site-packages/prettytable/__init__.py',\n",
       " '__cached__': '/Users/alberto/.local/share/virtualenvs/notebooks-LWRlkxsC/lib/python3.7/site-packages/prettytable/__pycache__/__init__.cpython-37.pyc',\n",
       " '__builtins__': {'__name__': 'builtins',\n",
       "  '__doc__': \"Built-in functions, exceptions, and other objects.\\n\\nNoteworthy: None is the `nil' object; Ellipsis represents `...' in slices.\",\n",
       "  '__package__': '',\n",
       "  '__loader__': _frozen_importlib.BuiltinImporter,\n",
       "  '__spec__': ModuleSpec(name='builtins', loader=<class '_frozen_importlib.BuiltinImporter'>),\n",
       "  '__build_class__': <function __build_class__>,\n",
       "  '__import__': <function __import__>,\n",
       "  'abs': <function abs(x, /)>,\n",
       "  'all': <function all(iterable, /)>,\n",
       "  'any': <function any(iterable, /)>,\n",
       "  'ascii': <function ascii(obj, /)>,\n",
       "  'bin': <function bin(number, /)>,\n",
       "  'breakpoint': <function breakpoint>,\n",
       "  'callable': <function callable(obj, /)>,\n",
       "  'chr': <function chr(i, /)>,\n",
       "  'compile': <function compile(source, filename, mode, flags=0, dont_inherit=False, optimize=-1)>,\n",
       "  'delattr': <function delattr(obj, name, /)>,\n",
       "  'dir': <function dir>,\n",
       "  'divmod': <function divmod(x, y, /)>,\n",
       "  'eval': <function eval(source, globals=None, locals=None, /)>,\n",
       "  'exec': <function exec(source, globals=None, locals=None, /)>,\n",
       "  'format': <function format(value, format_spec='', /)>,\n",
       "  'getattr': <function getattr>,\n",
       "  'globals': <function globals()>,\n",
       "  'hasattr': <function hasattr(obj, name, /)>,\n",
       "  'hash': <function hash(obj, /)>,\n",
       "  'hex': <function hex(number, /)>,\n",
       "  'id': <function id(obj, /)>,\n",
       "  'input': <bound method Kernel.raw_input of <ipykernel.ipkernel.IPythonKernel object at 0x105134320>>,\n",
       "  'isinstance': <function isinstance(obj, class_or_tuple, /)>,\n",
       "  'issubclass': <function issubclass(cls, class_or_tuple, /)>,\n",
       "  'iter': <function iter>,\n",
       "  'len': <function len(obj, /)>,\n",
       "  'locals': <function locals()>,\n",
       "  'max': <function max>,\n",
       "  'min': <function min>,\n",
       "  'next': <function next>,\n",
       "  'oct': <function oct(number, /)>,\n",
       "  'ord': <function ord(c, /)>,\n",
       "  'pow': <function pow(x, y, z=None, /)>,\n",
       "  'print': <function print>,\n",
       "  'repr': <function repr(obj, /)>,\n",
       "  'round': <function round(number, ndigits=None)>,\n",
       "  'setattr': <function setattr(obj, name, value, /)>,\n",
       "  'sorted': <function sorted(iterable, /, *, key=None, reverse=False)>,\n",
       "  'sum': <function sum(iterable, start=0, /)>,\n",
       "  'vars': <function vars>,\n",
       "  'None': None,\n",
       "  'Ellipsis': Ellipsis,\n",
       "  'NotImplemented': NotImplemented,\n",
       "  'False': False,\n",
       "  'True': True,\n",
       "  'bool': bool,\n",
       "  'memoryview': memoryview,\n",
       "  'bytearray': bytearray,\n",
       "  'bytes': bytes,\n",
       "  'classmethod': classmethod,\n",
       "  'complex': complex,\n",
       "  'dict': dict,\n",
       "  'enumerate': enumerate,\n",
       "  'filter': filter,\n",
       "  'float': float,\n",
       "  'frozenset': frozenset,\n",
       "  'property': property,\n",
       "  'int': int,\n",
       "  'list': list,\n",
       "  'map': map,\n",
       "  'object': object,\n",
       "  'range': range,\n",
       "  'reversed': reversed,\n",
       "  'set': set,\n",
       "  'slice': slice,\n",
       "  'staticmethod': staticmethod,\n",
       "  'str': str,\n",
       "  'super': super,\n",
       "  'tuple': tuple,\n",
       "  'type': type,\n",
       "  'zip': zip,\n",
       "  '__debug__': True,\n",
       "  'BaseException': BaseException,\n",
       "  'Exception': Exception,\n",
       "  'TypeError': TypeError,\n",
       "  'StopAsyncIteration': StopAsyncIteration,\n",
       "  'StopIteration': StopIteration,\n",
       "  'GeneratorExit': GeneratorExit,\n",
       "  'SystemExit': SystemExit,\n",
       "  'KeyboardInterrupt': KeyboardInterrupt,\n",
       "  'ImportError': ImportError,\n",
       "  'ModuleNotFoundError': ModuleNotFoundError,\n",
       "  'OSError': OSError,\n",
       "  'EnvironmentError': OSError,\n",
       "  'IOError': OSError,\n",
       "  'EOFError': EOFError,\n",
       "  'RuntimeError': RuntimeError,\n",
       "  'RecursionError': RecursionError,\n",
       "  'NotImplementedError': NotImplementedError,\n",
       "  'NameError': NameError,\n",
       "  'UnboundLocalError': UnboundLocalError,\n",
       "  'AttributeError': AttributeError,\n",
       "  'SyntaxError': SyntaxError,\n",
       "  'IndentationError': IndentationError,\n",
       "  'TabError': TabError,\n",
       "  'LookupError': LookupError,\n",
       "  'IndexError': IndexError,\n",
       "  'KeyError': KeyError,\n",
       "  'ValueError': ValueError,\n",
       "  'UnicodeError': UnicodeError,\n",
       "  'UnicodeEncodeError': UnicodeEncodeError,\n",
       "  'UnicodeDecodeError': UnicodeDecodeError,\n",
       "  'UnicodeTranslateError': UnicodeTranslateError,\n",
       "  'AssertionError': AssertionError,\n",
       "  'ArithmeticError': ArithmeticError,\n",
       "  'FloatingPointError': FloatingPointError,\n",
       "  'OverflowError': OverflowError,\n",
       "  'ZeroDivisionError': ZeroDivisionError,\n",
       "  'SystemError': SystemError,\n",
       "  'ReferenceError': ReferenceError,\n",
       "  'MemoryError': MemoryError,\n",
       "  'BufferError': BufferError,\n",
       "  'Warning': Warning,\n",
       "  'UserWarning': UserWarning,\n",
       "  'DeprecationWarning': DeprecationWarning,\n",
       "  'PendingDeprecationWarning': PendingDeprecationWarning,\n",
       "  'SyntaxWarning': SyntaxWarning,\n",
       "  'RuntimeWarning': RuntimeWarning,\n",
       "  'FutureWarning': FutureWarning,\n",
       "  'ImportWarning': ImportWarning,\n",
       "  'UnicodeWarning': UnicodeWarning,\n",
       "  'BytesWarning': BytesWarning,\n",
       "  'ResourceWarning': ResourceWarning,\n",
       "  'ConnectionError': ConnectionError,\n",
       "  'BlockingIOError': BlockingIOError,\n",
       "  'BrokenPipeError': BrokenPipeError,\n",
       "  'ChildProcessError': ChildProcessError,\n",
       "  'ConnectionAbortedError': ConnectionAbortedError,\n",
       "  'ConnectionRefusedError': ConnectionRefusedError,\n",
       "  'ConnectionResetError': ConnectionResetError,\n",
       "  'FileExistsError': FileExistsError,\n",
       "  'FileNotFoundError': FileNotFoundError,\n",
       "  'IsADirectoryError': IsADirectoryError,\n",
       "  'NotADirectoryError': NotADirectoryError,\n",
       "  'InterruptedError': InterruptedError,\n",
       "  'PermissionError': PermissionError,\n",
       "  'ProcessLookupError': ProcessLookupError,\n",
       "  'TimeoutError': TimeoutError,\n",
       "  'open': <function io.open(file, mode='r', buffering=-1, encoding=None, errors=None, newline=None, closefd=True, opener=None)>,\n",
       "  'copyright': Copyright (c) 2001-2019 Python Software Foundation.\n",
       "  All Rights Reserved.\n",
       "  \n",
       "  Copyright (c) 2000 BeOpen.com.\n",
       "  All Rights Reserved.\n",
       "  \n",
       "  Copyright (c) 1995-2001 Corporation for National Research Initiatives.\n",
       "  All Rights Reserved.\n",
       "  \n",
       "  Copyright (c) 1991-1995 Stichting Mathematisch Centrum, Amsterdam.\n",
       "  All Rights Reserved.,\n",
       "  'credits':     Thanks to CWI, CNRI, BeOpen.com, Zope Corporation and a cast of thousands\n",
       "      for supporting Python development.  See www.python.org for more information.,\n",
       "  'license': Type license() to see the full license text,\n",
       "  'help': Type help() for interactive help, or help(object) for help about object.,\n",
       "  '__IPYTHON__': True,\n",
       "  'display': <function IPython.core.display.display(*objs, include=None, exclude=None, metadata=None, transient=None, display_id=None, **kwargs)>,\n",
       "  'get_ipython': <bound method InteractiveShell.get_ipython of <ipykernel.zmqshell.ZMQInteractiveShell object at 0x105134208>>},\n",
       " '__version__': '0.9.2',\n",
       " '_compact': <module 'prettytable._compact' from '/Users/alberto/.local/share/virtualenvs/notebooks-LWRlkxsC/lib/python3.7/site-packages/prettytable/_compact.py'>,\n",
       " 'prettytable': <module 'prettytable.prettytable' from '/Users/alberto/.local/share/virtualenvs/notebooks-LWRlkxsC/lib/python3.7/site-packages/prettytable/prettytable.py'>,\n",
       " 'PrettyTable': prettytable.prettytable.PrettyTable,\n",
       " 'ALL': 1,\n",
       " 'HEADER': 3,\n",
       " 'MSWORD_FRIENDLY': 11,\n",
       " 'NONE': 2,\n",
       " 'factory': <module 'prettytable.factory' from '/Users/alberto/.local/share/virtualenvs/notebooks-LWRlkxsC/lib/python3.7/site-packages/prettytable/factory.py'>,\n",
       " 'from_csv': <function prettytable.factory.from_csv(fp, field_names=None, **kwargs)>,\n",
       " 'from_db_cursor': <function prettytable.factory.from_db_cursor(cursor, **kwargs)>,\n",
       " 'from_html': <function prettytable.factory.from_html(html_code, **kwargs)>,\n",
       " 'from_html_one': <function prettytable.factory.from_html_one(html_code, **kwargs)>}"
      ]
     },
     "execution_count": 47,
     "metadata": {},
     "output_type": "execute_result"
    }
   ],
   "source": [
    "prettytable.__dict__"
   ]
  },
  {
   "cell_type": "code",
   "execution_count": null,
   "metadata": {},
   "outputs": [],
   "source": [
    "%config SqlMagic.style='ALL'"
   ]
  },
  {
   "cell_type": "code",
   "execution_count": null,
   "metadata": {},
   "outputs": [],
   "source": [
    "%sql sqlite:///data.db"
   ]
  },
  {
   "cell_type": "code",
   "execution_count": null,
   "metadata": {},
   "outputs": [],
   "source": [
    "%%sql\n",
    "select *\n",
    "from sqlite_master"
   ]
  },
  {
   "cell_type": "code",
   "execution_count": null,
   "metadata": {},
   "outputs": [],
   "source": [
    "%%sql\n",
    "select *\n",
    "from orders\n",
    "limit 20"
   ]
  },
  {
   "cell_type": "markdown",
   "metadata": {},
   "source": [
    "## Orders per day"
   ]
  },
  {
   "cell_type": "code",
   "execution_count": 16,
   "metadata": {},
   "outputs": [
    {
     "name": "stdout",
     "output_type": "stream",
     "text": [
      " * sqlite:///data.db\n",
      "Done.\n"
     ]
    },
    {
     "data": {
      "text/html": [
       "<table>\n",
       "    <tr>\n",
       "        <th>date(created_at)</th>\n",
       "        <th>num</th>\n",
       "    </tr>\n",
       "    <tr>\n",
       "        <td>2020-11-16</td>\n",
       "        <td>8429</td>\n",
       "    </tr>\n",
       "    <tr>\n",
       "        <td>2020-11-11</td>\n",
       "        <td>5546</td>\n",
       "    </tr>\n",
       "    <tr>\n",
       "        <td>2020-11-12</td>\n",
       "        <td>2999</td>\n",
       "    </tr>\n",
       "    <tr>\n",
       "        <td>2020-11-15</td>\n",
       "        <td>2235</td>\n",
       "    </tr>\n",
       "    <tr>\n",
       "        <td>2020-11-14</td>\n",
       "        <td>2150</td>\n",
       "    </tr>\n",
       "    <tr>\n",
       "        <td>2020-11-13</td>\n",
       "        <td>1917</td>\n",
       "    </tr>\n",
       "    <tr>\n",
       "        <td>2020-11-17</td>\n",
       "        <td>1138</td>\n",
       "    </tr>\n",
       "</table>"
      ],
      "text/plain": [
       "[('2020-11-16', 8429),\n",
       " ('2020-11-11', 5546),\n",
       " ('2020-11-12', 2999),\n",
       " ('2020-11-15', 2235),\n",
       " ('2020-11-14', 2150),\n",
       " ('2020-11-13', 1917),\n",
       " ('2020-11-17', 1138)]"
      ]
     },
     "execution_count": 16,
     "metadata": {},
     "output_type": "execute_result"
    }
   ],
   "source": [
    "%%sql\n",
    "select date(created_at), count(order_number) as num\n",
    "from orders\n",
    "group by date(created_at)\n",
    "order by num desc \n",
    "limit 10;\n"
   ]
  },
  {
   "cell_type": "markdown",
   "metadata": {},
   "source": [
    "## Sales per day"
   ]
  },
  {
   "cell_type": "code",
   "execution_count": 39,
   "metadata": {},
   "outputs": [
    {
     "name": "stdout",
     "output_type": "stream",
     "text": [
      " * sqlite:///data.db\n",
      "Done.\n"
     ]
    },
    {
     "data": {
      "text/html": [
       "<table>\n",
       "    <tr>\n",
       "        <th>date(created_at)</th>\n",
       "        <th>sales</th>\n",
       "    </tr>\n",
       "    <tr>\n",
       "        <td>2020-11-16</td>\n",
       "        <td>502033</td>\n",
       "    </tr>\n",
       "    <tr>\n",
       "        <td>2020-11-11</td>\n",
       "        <td>308838</td>\n",
       "    </tr>\n",
       "    <tr>\n",
       "        <td>2020-11-12</td>\n",
       "        <td>161420</td>\n",
       "    </tr>\n",
       "    <tr>\n",
       "        <td>2020-11-15</td>\n",
       "        <td>127521</td>\n",
       "    </tr>\n",
       "    <tr>\n",
       "        <td>2020-11-14</td>\n",
       "        <td>125088</td>\n",
       "    </tr>\n",
       "    <tr>\n",
       "        <td>2020-11-13</td>\n",
       "        <td>111716</td>\n",
       "    </tr>\n",
       "    <tr>\n",
       "        <td>2020-11-17</td>\n",
       "        <td>63994</td>\n",
       "    </tr>\n",
       "</table>"
      ],
      "text/plain": [
       "[('2020-11-16', 502033),\n",
       " ('2020-11-11', 308838),\n",
       " ('2020-11-12', 161420),\n",
       " ('2020-11-15', 127521),\n",
       " ('2020-11-14', 125088),\n",
       " ('2020-11-13', 111716),\n",
       " ('2020-11-17', 63994)]"
      ]
     },
     "execution_count": 39,
     "metadata": {},
     "output_type": "execute_result"
    }
   ],
   "source": [
    "%%sql\n",
    "select date(created_at), sum(total_order_price) as sales\n",
    "from orders\n",
    "group by date(created_at)\n",
    "order by sales desc \n",
    "limit 10;"
   ]
  },
  {
   "cell_type": "markdown",
   "metadata": {},
   "source": [
    "## Top selling product"
   ]
  },
  {
   "cell_type": "code",
   "execution_count": 17,
   "metadata": {},
   "outputs": [
    {
     "name": "stdout",
     "output_type": "stream",
     "text": [
      " * sqlite:///data.db\n",
      "Done.\n"
     ]
    },
    {
     "data": {
      "text/html": [
       "<table>\n",
       "    <tr>\n",
       "        <th>Product</th>\n",
       "        <th>Total</th>\n",
       "    </tr>\n",
       "    <tr>\n",
       "        <td>LUBMONO1</td>\n",
       "        <td>8210</td>\n",
       "    </tr>\n",
       "</table>"
      ],
      "text/plain": [
       "[('LUBMONO1', 8210)]"
      ]
     },
     "execution_count": 17,
     "metadata": {},
     "output_type": "execute_result"
    }
   ],
   "source": [
    "%%sql\n",
    "SELECT sku as Product, COUNT(*) as Total\n",
    "FROM orders\n",
    "GROUP BY sku\n",
    "ORDER BY Total desc\n",
    "limit 1"
   ]
  },
  {
   "cell_type": "markdown",
   "metadata": {},
   "source": [
    "## Percentage of orders with discount codes"
   ]
  },
  {
   "cell_type": "code",
   "execution_count": null,
   "metadata": {},
   "outputs": [],
   "source": [
    "# ¿Cómo saco el porcentaje a esto?"
   ]
  },
  {
   "cell_type": "code",
   "execution_count": 19,
   "metadata": {},
   "outputs": [
    {
     "name": "stdout",
     "output_type": "stream",
     "text": [
      " * sqlite:///data.db\n",
      "Done.\n"
     ]
    },
    {
     "data": {
      "text/html": [
       "<table>\n",
       "    <tr>\n",
       "        <th>percent_with_discount</th>\n",
       "    </tr>\n",
       "    <tr>\n",
       "        <td>36</td>\n",
       "    </tr>\n",
       "</table>"
      ],
      "text/plain": [
       "[(36,)]"
      ]
     },
     "execution_count": 19,
     "metadata": {},
     "output_type": "execute_result"
    }
   ],
   "source": [
    "%%sql\n",
    "SELECT 100* count(*)/(select count(*) from orders) as percent_with_discount\n",
    "FROM orders\n",
    "WHERE discount_code is not null"
   ]
  },
  {
   "cell_type": "markdown",
   "metadata": {},
   "source": [
    "## Percentage of orders with product SKU PM591"
   ]
  },
  {
   "cell_type": "code",
   "execution_count": 21,
   "metadata": {},
   "outputs": [
    {
     "name": "stdout",
     "output_type": "stream",
     "text": [
      " * sqlite:///data.db\n",
      "Done.\n"
     ]
    },
    {
     "data": {
      "text/html": [
       "<table>\n",
       "    <tr>\n",
       "        <th>percent_PM591</th>\n",
       "    </tr>\n",
       "    <tr>\n",
       "        <td>6</td>\n",
       "    </tr>\n",
       "</table>"
      ],
      "text/plain": [
       "[(6,)]"
      ]
     },
     "execution_count": 21,
     "metadata": {},
     "output_type": "execute_result"
    }
   ],
   "source": [
    "%%sql\n",
    "SELECT 100* count(*)/(select count(*) from orders) as percent_PM591\n",
    "FROM orders\n",
    "WHERE sku = 'PM591';"
   ]
  },
  {
   "cell_type": "markdown",
   "metadata": {},
   "source": [
    "## Hour of day people buy most products"
   ]
  },
  {
   "cell_type": "code",
   "execution_count": 35,
   "metadata": {},
   "outputs": [
    {
     "name": "stdout",
     "output_type": "stream",
     "text": [
      " * sqlite:///data.db\n",
      "Done.\n"
     ]
    },
    {
     "data": {
      "text/html": [
       "<table>\n",
       "    <tr>\n",
       "        <th>hora</th>\n",
       "        <th>orders</th>\n",
       "    </tr>\n",
       "    <tr>\n",
       "        <td>00</td>\n",
       "        <td>740</td>\n",
       "    </tr>\n",
       "    <tr>\n",
       "        <td>01</td>\n",
       "        <td>282</td>\n",
       "    </tr>\n",
       "    <tr>\n",
       "        <td>02</td>\n",
       "        <td>164</td>\n",
       "    </tr>\n",
       "    <tr>\n",
       "        <td>03</td>\n",
       "        <td>68</td>\n",
       "    </tr>\n",
       "    <tr>\n",
       "        <td>04</td>\n",
       "        <td>92</td>\n",
       "    </tr>\n",
       "    <tr>\n",
       "        <td>05</td>\n",
       "        <td>58</td>\n",
       "    </tr>\n",
       "    <tr>\n",
       "        <td>06</td>\n",
       "        <td>194</td>\n",
       "    </tr>\n",
       "    <tr>\n",
       "        <td>07</td>\n",
       "        <td>391</td>\n",
       "    </tr>\n",
       "    <tr>\n",
       "        <td>08</td>\n",
       "        <td>751</td>\n",
       "    </tr>\n",
       "    <tr>\n",
       "        <td>09</td>\n",
       "        <td>832</td>\n",
       "    </tr>\n",
       "    <tr>\n",
       "        <td>10</td>\n",
       "        <td>873</td>\n",
       "    </tr>\n",
       "    <tr>\n",
       "        <td>11</td>\n",
       "        <td>948</td>\n",
       "    </tr>\n",
       "    <tr>\n",
       "        <td>12</td>\n",
       "        <td>865</td>\n",
       "    </tr>\n",
       "    <tr>\n",
       "        <td>13</td>\n",
       "        <td>978</td>\n",
       "    </tr>\n",
       "    <tr>\n",
       "        <td>14</td>\n",
       "        <td>1397</td>\n",
       "    </tr>\n",
       "    <tr>\n",
       "        <td>15</td>\n",
       "        <td>1750</td>\n",
       "    </tr>\n",
       "    <tr>\n",
       "        <td>16</td>\n",
       "        <td>1562</td>\n",
       "    </tr>\n",
       "    <tr>\n",
       "        <td>17</td>\n",
       "        <td>1623</td>\n",
       "    </tr>\n",
       "    <tr>\n",
       "        <td>18</td>\n",
       "        <td>1528</td>\n",
       "    </tr>\n",
       "    <tr>\n",
       "        <td>19</td>\n",
       "        <td>1845</td>\n",
       "    </tr>\n",
       "    <tr>\n",
       "        <td>20</td>\n",
       "        <td>1848</td>\n",
       "    </tr>\n",
       "    <tr>\n",
       "        <td>21</td>\n",
       "        <td>1821</td>\n",
       "    </tr>\n",
       "    <tr>\n",
       "        <td>22</td>\n",
       "        <td>2092</td>\n",
       "    </tr>\n",
       "    <tr>\n",
       "        <td>23</td>\n",
       "        <td>1712</td>\n",
       "    </tr>\n",
       "</table>"
      ],
      "text/plain": [
       "[('00', 740),\n",
       " ('01', 282),\n",
       " ('02', 164),\n",
       " ('03', 68),\n",
       " ('04', 92),\n",
       " ('05', 58),\n",
       " ('06', 194),\n",
       " ('07', 391),\n",
       " ('08', 751),\n",
       " ('09', 832),\n",
       " ('10', 873),\n",
       " ('11', 948),\n",
       " ('12', 865),\n",
       " ('13', 978),\n",
       " ('14', 1397),\n",
       " ('15', 1750),\n",
       " ('16', 1562),\n",
       " ('17', 1623),\n",
       " ('18', 1528),\n",
       " ('19', 1845),\n",
       " ('20', 1848),\n",
       " ('21', 1821),\n",
       " ('22', 2092),\n",
       " ('23', 1712)]"
      ]
     },
     "execution_count": 35,
     "metadata": {},
     "output_type": "execute_result"
    }
   ],
   "source": [
    "%%sql\n",
    "select strftime('%H', datetime(created_at)) hora, count(*) orders\n",
    "from orders\n",
    "group by strftime('%H', datetime(created_at))\n",
    "order by strftime('%H', datetime(created_at));"
   ]
  },
  {
   "cell_type": "code",
   "execution_count": 36,
   "metadata": {},
   "outputs": [
    {
     "name": "stdout",
     "output_type": "stream",
     "text": [
      " * sqlite:///data.db\n",
      "Done.\n"
     ]
    },
    {
     "data": {
      "text/html": [
       "<table>\n",
       "    <tr>\n",
       "        <th>hora</th>\n",
       "        <th>orders</th>\n",
       "    </tr>\n",
       "    <tr>\n",
       "        <td>22</td>\n",
       "        <td>2092</td>\n",
       "    </tr>\n",
       "</table>"
      ],
      "text/plain": [
       "[('22', 2092)]"
      ]
     },
     "execution_count": 36,
     "metadata": {},
     "output_type": "execute_result"
    }
   ],
   "source": [
    "%%sql\n",
    "select strftime('%H', datetime(created_at)) hora, count(*) orders\n",
    "from orders\n",
    "group by strftime('%H', datetime(created_at))\n",
    "order by orders desc\n",
    "limit 1;"
   ]
  },
  {
   "cell_type": "code",
   "execution_count": null,
   "metadata": {},
   "outputs": [],
   "source": []
  }
 ],
 "metadata": {
  "kernelspec": {
   "display_name": "Ironhack",
   "language": "python",
   "name": "ironhack"
  },
  "language_info": {
   "codemirror_mode": {
    "name": "ipython",
    "version": 3
   },
   "file_extension": ".py",
   "mimetype": "text/x-python",
   "name": "python",
   "nbconvert_exporter": "python",
   "pygments_lexer": "ipython3",
   "version": "3.7.5"
  },
  "toc": {
   "base_numbering": 1,
   "nav_menu": {},
   "number_sections": true,
   "sideBar": true,
   "skip_h1_title": false,
   "title_cell": "Table of Contents",
   "title_sidebar": "Contents",
   "toc_cell": true,
   "toc_position": {},
   "toc_section_display": true,
   "toc_window_display": false
  },
  "varInspector": {
   "cols": {
    "lenName": 16,
    "lenType": 16,
    "lenVar": 40
   },
   "kernels_config": {
    "python": {
     "delete_cmd_postfix": "",
     "delete_cmd_prefix": "del ",
     "library": "var_list.py",
     "varRefreshCmd": "print(var_dic_list())"
    },
    "r": {
     "delete_cmd_postfix": ") ",
     "delete_cmd_prefix": "rm(",
     "library": "var_list.r",
     "varRefreshCmd": "cat(var_dic_list()) "
    }
   },
   "types_to_exclude": [
    "module",
    "function",
    "builtin_function_or_method",
    "instance",
    "_Feature"
   ],
   "window_display": false
  }
 },
 "nbformat": 4,
 "nbformat_minor": 4
}
