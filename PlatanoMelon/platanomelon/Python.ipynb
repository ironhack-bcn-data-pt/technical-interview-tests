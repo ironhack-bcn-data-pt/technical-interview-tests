{
 "cells": [
  {
   "cell_type": "markdown",
   "metadata": {
    "toc": true
   },
   "source": [
    "<h1>Table of Contents<span class=\"tocSkip\"></span></h1>\n",
    "<div class=\"toc\"><ul class=\"toc-item\"><li><span><a href=\"#Python\" data-toc-modified-id=\"Python-1\"><span class=\"toc-item-num\">1&nbsp;&nbsp;</span>Python</a></span><ul class=\"toc-item\"><li><span><a href=\"#Modelling\" data-toc-modified-id=\"Modelling-1.1\"><span class=\"toc-item-num\">1.1&nbsp;&nbsp;</span>Modelling</a></span><ul class=\"toc-item\"><li><span><a href=\"#Linear-regression\" data-toc-modified-id=\"Linear-regression-1.1.1\"><span class=\"toc-item-num\">1.1.1&nbsp;&nbsp;</span>Linear regression</a></span></li></ul></li><li><span><a href=\"#Explore-relationship\" data-toc-modified-id=\"Explore-relationship-1.2\"><span class=\"toc-item-num\">1.2&nbsp;&nbsp;</span>Explore relationship</a></span><ul class=\"toc-item\"><li><span><a href=\"#decision-tree\" data-toc-modified-id=\"decision-tree-1.2.1\"><span class=\"toc-item-num\">1.2.1&nbsp;&nbsp;</span>decision tree</a></span></li></ul></li></ul></li></ul></div>"
   ]
  },
  {
   "cell_type": "markdown",
   "metadata": {},
   "source": [
    "# Python"
   ]
  },
  {
   "cell_type": "code",
   "execution_count": 1,
   "metadata": {},
   "outputs": [],
   "source": [
    "import pandas as pd\n",
    "import numpy as np"
   ]
  },
  {
   "cell_type": "code",
   "execution_count": 2,
   "metadata": {},
   "outputs": [],
   "source": [
    "data = pd.read_csv('price_analytics.csv', index_col=[0])"
   ]
  },
  {
   "cell_type": "code",
   "execution_count": 3,
   "metadata": {},
   "outputs": [
    {
     "data": {
      "text/html": [
       "<div>\n",
       "<style scoped>\n",
       "    .dataframe tbody tr th:only-of-type {\n",
       "        vertical-align: middle;\n",
       "    }\n",
       "\n",
       "    .dataframe tbody tr th {\n",
       "        vertical-align: top;\n",
       "    }\n",
       "\n",
       "    .dataframe thead th {\n",
       "        text-align: right;\n",
       "    }\n",
       "</style>\n",
       "<table border=\"1\" class=\"dataframe\">\n",
       "  <thead>\n",
       "    <tr style=\"text-align: right;\">\n",
       "      <th></th>\n",
       "      <th>Date</th>\n",
       "      <th>sku</th>\n",
       "      <th>unit_price</th>\n",
       "      <th>units</th>\n",
       "    </tr>\n",
       "  </thead>\n",
       "  <tbody>\n",
       "    <tr>\n",
       "      <th>0</th>\n",
       "      <td>Feb 15, 2021</td>\n",
       "      <td>M735H7159</td>\n",
       "      <td>55.71</td>\n",
       "      <td>262.0</td>\n",
       "    </tr>\n",
       "    <tr>\n",
       "      <th>1</th>\n",
       "      <td>Feb 15, 2021</td>\n",
       "      <td>3637H1617</td>\n",
       "      <td>140.36</td>\n",
       "      <td>5.0</td>\n",
       "    </tr>\n",
       "    <tr>\n",
       "      <th>2</th>\n",
       "      <td>Feb 15, 2021</td>\n",
       "      <td>P036H2062</td>\n",
       "      <td>68.03</td>\n",
       "      <td>13.0</td>\n",
       "    </tr>\n",
       "    <tr>\n",
       "      <th>3</th>\n",
       "      <td>Feb 15, 2021</td>\n",
       "      <td>M630H8980</td>\n",
       "      <td>49.77</td>\n",
       "      <td>186.0</td>\n",
       "    </tr>\n",
       "    <tr>\n",
       "      <th>4</th>\n",
       "      <td>Feb 15, 2021</td>\n",
       "      <td>P037H2072</td>\n",
       "      <td>68.03</td>\n",
       "      <td>5.0</td>\n",
       "    </tr>\n",
       "    <tr>\n",
       "      <th>5</th>\n",
       "      <td>Feb 15, 2021</td>\n",
       "      <td>-233H1277</td>\n",
       "      <td>93.20</td>\n",
       "      <td>5.0</td>\n",
       "    </tr>\n",
       "    <tr>\n",
       "      <th>6</th>\n",
       "      <td>Feb 15, 2021</td>\n",
       "      <td>P036H2066</td>\n",
       "      <td>74.11</td>\n",
       "      <td>6.0</td>\n",
       "    </tr>\n",
       "    <tr>\n",
       "      <th>7</th>\n",
       "      <td>Feb 15, 2021</td>\n",
       "      <td>3635H0605</td>\n",
       "      <td>106.03</td>\n",
       "      <td>5.0</td>\n",
       "    </tr>\n",
       "    <tr>\n",
       "      <th>8</th>\n",
       "      <td>Feb 15, 2021</td>\n",
       "      <td>2734H9994</td>\n",
       "      <td>11.31</td>\n",
       "      <td>6.0</td>\n",
       "    </tr>\n",
       "    <tr>\n",
       "      <th>9</th>\n",
       "      <td>Feb 15, 2021</td>\n",
       "      <td>P036H2067</td>\n",
       "      <td>83.81</td>\n",
       "      <td>7.0</td>\n",
       "    </tr>\n",
       "    <tr>\n",
       "      <th>10</th>\n",
       "      <td>Feb 14, 2021</td>\n",
       "      <td>P037H2071</td>\n",
       "      <td>68.03</td>\n",
       "      <td>5.0</td>\n",
       "    </tr>\n",
       "    <tr>\n",
       "      <th>11</th>\n",
       "      <td>Feb 14, 2021</td>\n",
       "      <td>P036H2066</td>\n",
       "      <td>74.11</td>\n",
       "      <td>11.0</td>\n",
       "    </tr>\n",
       "    <tr>\n",
       "      <th>12</th>\n",
       "      <td>Feb 14, 2021</td>\n",
       "      <td>3637H1617</td>\n",
       "      <td>140.36</td>\n",
       "      <td>5.0</td>\n",
       "    </tr>\n",
       "    <tr>\n",
       "      <th>13</th>\n",
       "      <td>Feb 14, 2021</td>\n",
       "      <td>M630H8980</td>\n",
       "      <td>49.03</td>\n",
       "      <td>233.0</td>\n",
       "    </tr>\n",
       "    <tr>\n",
       "      <th>14</th>\n",
       "      <td>Feb 14, 2021</td>\n",
       "      <td>M735H7159</td>\n",
       "      <td>55.60</td>\n",
       "      <td>320.0</td>\n",
       "    </tr>\n",
       "    <tr>\n",
       "      <th>15</th>\n",
       "      <td>Feb 14, 2021</td>\n",
       "      <td>P036H2062</td>\n",
       "      <td>68.03</td>\n",
       "      <td>16.0</td>\n",
       "    </tr>\n",
       "    <tr>\n",
       "      <th>16</th>\n",
       "      <td>Feb 14, 2021</td>\n",
       "      <td>2734H9994</td>\n",
       "      <td>24.11</td>\n",
       "      <td>5.0</td>\n",
       "    </tr>\n",
       "    <tr>\n",
       "      <th>17</th>\n",
       "      <td>Feb 14, 2021</td>\n",
       "      <td>-232H1247</td>\n",
       "      <td>108.29</td>\n",
       "      <td>5.0</td>\n",
       "    </tr>\n",
       "    <tr>\n",
       "      <th>18</th>\n",
       "      <td>Feb 13, 2021</td>\n",
       "      <td>2734H9994</td>\n",
       "      <td>24.11</td>\n",
       "      <td>5.0</td>\n",
       "    </tr>\n",
       "    <tr>\n",
       "      <th>19</th>\n",
       "      <td>Feb 13, 2021</td>\n",
       "      <td>M735H7159</td>\n",
       "      <td>54.67</td>\n",
       "      <td>241.0</td>\n",
       "    </tr>\n",
       "  </tbody>\n",
       "</table>\n",
       "</div>"
      ],
      "text/plain": [
       "            Date        sku  unit_price  units\n",
       "0   Feb 15, 2021  M735H7159       55.71  262.0\n",
       "1   Feb 15, 2021  3637H1617      140.36    5.0\n",
       "2   Feb 15, 2021  P036H2062       68.03   13.0\n",
       "3   Feb 15, 2021  M630H8980       49.77  186.0\n",
       "4   Feb 15, 2021  P037H2072       68.03    5.0\n",
       "5   Feb 15, 2021  -233H1277       93.20    5.0\n",
       "6   Feb 15, 2021  P036H2066       74.11    6.0\n",
       "7   Feb 15, 2021  3635H0605      106.03    5.0\n",
       "8   Feb 15, 2021  2734H9994       11.31    6.0\n",
       "9   Feb 15, 2021  P036H2067       83.81    7.0\n",
       "10  Feb 14, 2021  P037H2071       68.03    5.0\n",
       "11  Feb 14, 2021  P036H2066       74.11   11.0\n",
       "12  Feb 14, 2021  3637H1617      140.36    5.0\n",
       "13  Feb 14, 2021  M630H8980       49.03  233.0\n",
       "14  Feb 14, 2021  M735H7159       55.60  320.0\n",
       "15  Feb 14, 2021  P036H2062       68.03   16.0\n",
       "16  Feb 14, 2021  2734H9994       24.11    5.0\n",
       "17  Feb 14, 2021  -232H1247      108.29    5.0\n",
       "18  Feb 13, 2021  2734H9994       24.11    5.0\n",
       "19  Feb 13, 2021  M735H7159       54.67  241.0"
      ]
     },
     "execution_count": 3,
     "metadata": {},
     "output_type": "execute_result"
    }
   ],
   "source": [
    "data.head(20)"
   ]
  },
  {
   "cell_type": "code",
   "execution_count": 4,
   "metadata": {},
   "outputs": [
    {
     "name": "stdout",
     "output_type": "stream",
     "text": [
      "<class 'pandas.core.frame.DataFrame'>\n",
      "Int64Index: 1671 entries, 0 to 1670\n",
      "Data columns (total 4 columns):\n",
      " #   Column      Non-Null Count  Dtype  \n",
      "---  ------      --------------  -----  \n",
      " 0   Date        1671 non-null   object \n",
      " 1   sku         1671 non-null   object \n",
      " 2   unit_price  1671 non-null   float64\n",
      " 3   units       1671 non-null   float64\n",
      "dtypes: float64(2), object(2)\n",
      "memory usage: 65.3+ KB\n"
     ]
    }
   ],
   "source": [
    "data.info()"
   ]
  },
  {
   "cell_type": "code",
   "execution_count": 5,
   "metadata": {},
   "outputs": [
    {
     "data": {
      "text/plain": [
       "sku\n",
       "-232H1243       157.0\n",
       "-232H1247       111.0\n",
       "-233H1277       267.0\n",
       "-233H1278       324.0\n",
       "-233H1279       233.0\n",
       "2734H9994       481.0\n",
       "3630H2620       117.0\n",
       "3635H0605        20.0\n",
       "3636H1616        70.0\n",
       "3637H0607        20.0\n",
       "3637H1617       150.0\n",
       "3638H1618        10.0\n",
       "M630H8980     83888.0\n",
       "M735H7159    105640.0\n",
       "P036H2062      4201.0\n",
       "P036H2065      2416.0\n",
       "P036H2066      1391.0\n",
       "P036H2067       530.0\n",
       "P036H2068        83.0\n",
       "P036H2069        40.0\n",
       "P036H3063         5.0\n",
       "P036H3064        11.0\n",
       "P037H2070        35.0\n",
       "P037H2071      1294.0\n",
       "P037H2072      1063.0\n",
       "Name: units, dtype: float64"
      ]
     },
     "execution_count": 5,
     "metadata": {},
     "output_type": "execute_result"
    }
   ],
   "source": [
    "data.groupby('sku').units.sum()"
   ]
  },
  {
   "cell_type": "markdown",
   "metadata": {},
   "source": [
    "The most sold products are:\n",
    "\n",
    "No. 1 M735H7159 \n",
    "No. 2 M630H8980"
   ]
  },
  {
   "cell_type": "code",
   "execution_count": 6,
   "metadata": {},
   "outputs": [],
   "source": [
    "data.Date = pd.to_datetime(data.Date)"
   ]
  },
  {
   "cell_type": "code",
   "execution_count": 7,
   "metadata": {},
   "outputs": [],
   "source": [
    "data.set_index('Date', inplace=True)"
   ]
  },
  {
   "cell_type": "code",
   "execution_count": 8,
   "metadata": {},
   "outputs": [
    {
     "data": {
      "text/plain": [
       "<AxesSubplot:xlabel='Date'>"
      ]
     },
     "execution_count": 8,
     "metadata": {},
     "output_type": "execute_result"
    },
    {
     "data": {
      "image/png": "[encoded data removed]",
      "text/plain": [
       "<Figure size 432x288 with 1 Axes>"
      ]
     },
     "metadata": {
      "needs_background": "light"
     },
     "output_type": "display_data"
    }
   ],
   "source": [
    "data.units.plot()"
   ]
  },
  {
   "cell_type": "code",
   "execution_count": 14,
   "metadata": {},
   "outputs": [
    {
     "data": {
      "text/plain": [
       "Date\n",
       "2020-11-27    16\n",
       "2020-11-17    13\n",
       "2020-12-17    13\n",
       "2020-12-28    13\n",
       "2021-01-04    13\n",
       "Name: sku, dtype: int64"
      ]
     },
     "execution_count": 14,
     "metadata": {},
     "output_type": "execute_result"
    }
   ],
   "source": [
    "data.resample('d').sku.count().nlargest(5)"
   ]
  },
  {
   "cell_type": "code",
   "execution_count": 16,
   "metadata": {},
   "outputs": [
    {
     "data": {
      "text/plain": [
       "Date\n",
       "2020-08-26    37293.0\n",
       "2020-11-18     7703.0\n",
       "2020-11-27     6700.0\n",
       "2020-11-29     4252.0\n",
       "2020-11-19     3998.0\n",
       "Name: units, dtype: float64"
      ]
     },
     "execution_count": 16,
     "metadata": {},
     "output_type": "execute_result"
    }
   ],
   "source": [
    "data.units.nlargest(5)"
   ]
  },
  {
   "cell_type": "code",
   "execution_count": 22,
   "metadata": {},
   "outputs": [
    {
     "data": {
      "text/html": [
       "<div>\n",
       "<style scoped>\n",
       "    .dataframe tbody tr th:only-of-type {\n",
       "        vertical-align: middle;\n",
       "    }\n",
       "\n",
       "    .dataframe tbody tr th {\n",
       "        vertical-align: top;\n",
       "    }\n",
       "\n",
       "    .dataframe thead th {\n",
       "        text-align: right;\n",
       "    }\n",
       "</style>\n",
       "<table border=\"1\" class=\"dataframe\">\n",
       "  <thead>\n",
       "    <tr style=\"text-align: right;\">\n",
       "      <th></th>\n",
       "      <th>sku</th>\n",
       "      <th>unit_price</th>\n",
       "      <th>units</th>\n",
       "    </tr>\n",
       "    <tr>\n",
       "      <th>Date</th>\n",
       "      <th></th>\n",
       "      <th></th>\n",
       "      <th></th>\n",
       "    </tr>\n",
       "  </thead>\n",
       "  <tbody>\n",
       "    <tr>\n",
       "      <th>2020-08-26</th>\n",
       "      <td>M630H8980</td>\n",
       "      <td>28.42</td>\n",
       "      <td>37293.0</td>\n",
       "    </tr>\n",
       "  </tbody>\n",
       "</table>\n",
       "</div>"
      ],
      "text/plain": [
       "                  sku  unit_price    units\n",
       "Date                                      \n",
       "2020-08-26  M630H8980       28.42  37293.0"
      ]
     },
     "execution_count": 22,
     "metadata": {},
     "output_type": "execute_result"
    }
   ],
   "source": [
    "data[data['units'] == 37293]"
   ]
  },
  {
   "cell_type": "code",
   "execution_count": 24,
   "metadata": {},
   "outputs": [
    {
     "data": {
      "text/html": [
       "<div>\n",
       "<style scoped>\n",
       "    .dataframe tbody tr th:only-of-type {\n",
       "        vertical-align: middle;\n",
       "    }\n",
       "\n",
       "    .dataframe tbody tr th {\n",
       "        vertical-align: top;\n",
       "    }\n",
       "\n",
       "    .dataframe thead th {\n",
       "        text-align: right;\n",
       "    }\n",
       "</style>\n",
       "<table border=\"1\" class=\"dataframe\">\n",
       "  <thead>\n",
       "    <tr style=\"text-align: right;\">\n",
       "      <th></th>\n",
       "      <th>sku</th>\n",
       "      <th>unit_price</th>\n",
       "      <th>units</th>\n",
       "    </tr>\n",
       "    <tr>\n",
       "      <th>Date</th>\n",
       "      <th></th>\n",
       "      <th></th>\n",
       "      <th></th>\n",
       "    </tr>\n",
       "  </thead>\n",
       "  <tbody>\n",
       "    <tr>\n",
       "      <th>2020-08-26</th>\n",
       "      <td>M630H8980</td>\n",
       "      <td>28.42</td>\n",
       "      <td>37293.0</td>\n",
       "    </tr>\n",
       "  </tbody>\n",
       "</table>\n",
       "</div>"
      ],
      "text/plain": [
       "                  sku  unit_price    units\n",
       "Date                                      \n",
       "2020-08-26  M630H8980       28.42  37293.0"
      ]
     },
     "execution_count": 24,
     "metadata": {},
     "output_type": "execute_result"
    }
   ],
   "source": [
    "data.query('units == 37293')"
   ]
  },
  {
   "cell_type": "code",
   "execution_count": null,
   "metadata": {},
   "outputs": [],
   "source": []
  },
  {
   "cell_type": "code",
   "execution_count": 26,
   "metadata": {},
   "outputs": [
    {
     "data": {
      "text/plain": [
       "sku\n",
       "M735H7159    105640.0\n",
       "M630H8980     83888.0\n",
       "P036H2062      4201.0\n",
       "P036H2065      2416.0\n",
       "P036H2066      1391.0\n",
       "Name: units, dtype: float64"
      ]
     },
     "execution_count": 26,
     "metadata": {},
     "output_type": "execute_result"
    }
   ],
   "source": [
    "data.groupby('sku').units.sum().nlargest(5)"
   ]
  },
  {
   "cell_type": "code",
   "execution_count": 27,
   "metadata": {},
   "outputs": [],
   "source": [
    "import seaborn as sns"
   ]
  },
  {
   "cell_type": "code",
   "execution_count": 29,
   "metadata": {},
   "outputs": [
    {
     "data": {
      "text/plain": [
       "<seaborn.axisgrid.FacetGrid at 0x7fe9afbc5e10>"
      ]
     },
     "execution_count": 29,
     "metadata": {},
     "output_type": "execute_result"
    },
    {
     "data": {
      "image/png": "[encoded data removed]",
      "text/plain": [
       "<Figure size 360x360 with 1 Axes>"
      ]
     },
     "metadata": {
      "needs_background": "light"
     },
     "output_type": "display_data"
    }
   ],
   "source": [
    "sns.relplot(data=data, x='unit_price', y='units')"
   ]
  },
  {
   "cell_type": "code",
   "execution_count": 41,
   "metadata": {},
   "outputs": [
    {
     "data": {
      "text/plain": [
       "count    178.000000\n",
       "mean      52.608146\n",
       "std        4.357880\n",
       "min       28.420000\n",
       "25%       51.027500\n",
       "50%       53.815000\n",
       "75%       55.277500\n",
       "max       60.220000\n",
       "Name: unit_price, dtype: float64"
      ]
     },
     "execution_count": 41,
     "metadata": {},
     "output_type": "execute_result"
    }
   ],
   "source": [
    "data[data.sku.isin(['M630H8980'])].unit_price.describe()"
   ]
  },
  {
   "cell_type": "code",
   "execution_count": 42,
   "metadata": {},
   "outputs": [
    {
     "data": {
      "text/plain": [
       "count    161.000000\n",
       "mean      55.490807\n",
       "std        7.048929\n",
       "min       39.770000\n",
       "25%       49.250000\n",
       "50%       54.420000\n",
       "75%       63.630000\n",
       "max       68.030000\n",
       "Name: unit_price, dtype: float64"
      ]
     },
     "execution_count": 42,
     "metadata": {},
     "output_type": "execute_result"
    }
   ],
   "source": [
    "data[data.sku.isin(['M735H7159'])].unit_price.describe()"
   ]
  },
  {
   "cell_type": "code",
   "execution_count": 37,
   "metadata": {},
   "outputs": [
    {
     "data": {
      "text/html": [
       "<div>\n",
       "<style scoped>\n",
       "    .dataframe tbody tr th:only-of-type {\n",
       "        vertical-align: middle;\n",
       "    }\n",
       "\n",
       "    .dataframe tbody tr th {\n",
       "        vertical-align: top;\n",
       "    }\n",
       "\n",
       "    .dataframe thead th {\n",
       "        text-align: right;\n",
       "    }\n",
       "</style>\n",
       "<table border=\"1\" class=\"dataframe\">\n",
       "  <thead>\n",
       "    <tr style=\"text-align: right;\">\n",
       "      <th></th>\n",
       "      <th>sku</th>\n",
       "      <th>unit_price</th>\n",
       "      <th>units</th>\n",
       "    </tr>\n",
       "    <tr>\n",
       "      <th>Date</th>\n",
       "      <th></th>\n",
       "      <th></th>\n",
       "      <th></th>\n",
       "    </tr>\n",
       "  </thead>\n",
       "  <tbody>\n",
       "    <tr>\n",
       "      <th>2021-02-15</th>\n",
       "      <td>M735H7159</td>\n",
       "      <td>55.71</td>\n",
       "      <td>262.0</td>\n",
       "    </tr>\n",
       "    <tr>\n",
       "      <th>2021-02-15</th>\n",
       "      <td>M630H8980</td>\n",
       "      <td>49.77</td>\n",
       "      <td>186.0</td>\n",
       "    </tr>\n",
       "    <tr>\n",
       "      <th>2021-02-14</th>\n",
       "      <td>M630H8980</td>\n",
       "      <td>49.03</td>\n",
       "      <td>233.0</td>\n",
       "    </tr>\n",
       "    <tr>\n",
       "      <th>2021-02-14</th>\n",
       "      <td>M735H7159</td>\n",
       "      <td>55.60</td>\n",
       "      <td>320.0</td>\n",
       "    </tr>\n",
       "    <tr>\n",
       "      <th>2021-02-13</th>\n",
       "      <td>M735H7159</td>\n",
       "      <td>54.67</td>\n",
       "      <td>241.0</td>\n",
       "    </tr>\n",
       "    <tr>\n",
       "      <th>...</th>\n",
       "      <td>...</td>\n",
       "      <td>...</td>\n",
       "      <td>...</td>\n",
       "    </tr>\n",
       "    <tr>\n",
       "      <th>2020-08-04</th>\n",
       "      <td>M630H8980</td>\n",
       "      <td>51.82</td>\n",
       "      <td>347.0</td>\n",
       "    </tr>\n",
       "    <tr>\n",
       "      <th>2020-08-03</th>\n",
       "      <td>M630H8980</td>\n",
       "      <td>52.72</td>\n",
       "      <td>411.0</td>\n",
       "    </tr>\n",
       "    <tr>\n",
       "      <th>2020-08-02</th>\n",
       "      <td>M630H8980</td>\n",
       "      <td>52.13</td>\n",
       "      <td>343.0</td>\n",
       "    </tr>\n",
       "    <tr>\n",
       "      <th>2020-08-01</th>\n",
       "      <td>M630H8980</td>\n",
       "      <td>49.21</td>\n",
       "      <td>327.0</td>\n",
       "    </tr>\n",
       "    <tr>\n",
       "      <th>2020-07-31</th>\n",
       "      <td>M630H8980</td>\n",
       "      <td>49.90</td>\n",
       "      <td>363.0</td>\n",
       "    </tr>\n",
       "  </tbody>\n",
       "</table>\n",
       "<p>339 rows × 3 columns</p>\n",
       "</div>"
      ],
      "text/plain": [
       "                  sku  unit_price  units\n",
       "Date                                    \n",
       "2021-02-15  M735H7159       55.71  262.0\n",
       "2021-02-15  M630H8980       49.77  186.0\n",
       "2021-02-14  M630H8980       49.03  233.0\n",
       "2021-02-14  M735H7159       55.60  320.0\n",
       "2021-02-13  M735H7159       54.67  241.0\n",
       "...               ...         ...    ...\n",
       "2020-08-04  M630H8980       51.82  347.0\n",
       "2020-08-03  M630H8980       52.72  411.0\n",
       "2020-08-02  M630H8980       52.13  343.0\n",
       "2020-08-01  M630H8980       49.21  327.0\n",
       "2020-07-31  M630H8980       49.90  363.0\n",
       "\n",
       "[339 rows x 3 columns]"
      ]
     },
     "execution_count": 37,
     "metadata": {},
     "output_type": "execute_result"
    }
   ],
   "source": [
    "data[data.sku.isin(['M735H7159','M630H8980'])]"
   ]
  },
  {
   "cell_type": "code",
   "execution_count": 36,
   "metadata": {},
   "outputs": [
    {
     "data": {
      "text/plain": [
       "<AxesSubplot:xlabel='Date'>"
      ]
     },
     "execution_count": 36,
     "metadata": {},
     "output_type": "execute_result"
    },
    {
     "data": {
      "image/png": "[encoded data removed]",
      "text/plain": [
       "<Figure size 432x288 with 1 Axes>"
      ]
     },
     "metadata": {
      "needs_background": "light"
     },
     "output_type": "display_data"
    }
   ],
   "source": [
    "data[data.sku.isin(['M735H7159','M630H8980'])].reset_index().pivot_table(index='Date', columns='sku',values='units').plot()"
   ]
  },
  {
   "cell_type": "code",
   "execution_count": 48,
   "metadata": {},
   "outputs": [
    {
     "data": {
      "text/plain": [
       "<seaborn.axisgrid.FacetGrid at 0x7fe9af76f0d0>"
      ]
     },
     "execution_count": 48,
     "metadata": {},
     "output_type": "execute_result"
    },
    {
     "data": {
      "image/png": "[encoded data removed]",
      "text/plain": [
       "<Figure size 456.625x360 with 1 Axes>"
      ]
     },
     "metadata": {
      "needs_background": "light"
     },
     "output_type": "display_data"
    }
   ],
   "source": [
    "sns.relplot(data=data[data.sku.isin(['M735H7159','M630H8980'])],x='unit_price', y='units', hue='sku')"
   ]
  },
  {
   "cell_type": "code",
   "execution_count": 140,
   "metadata": {},
   "outputs": [],
   "source": [
    "df = pd.merge(data[data.sku.isin(['M630H8980'])][['unit_price','units']].rename(columns={'unit_price':'M630H8980_unit_price','units':'M630H8980_units'}).reset_index(), data[data.sku.isin(['M735H7159'])][['unit_price','units']].rename(columns={'unit_price':'M735H7159_unit_price','units':'M735H7159_units'}).reset_index(), how='outer', on='Date')"
   ]
  },
  {
   "cell_type": "code",
   "execution_count": 141,
   "metadata": {},
   "outputs": [],
   "source": [
    "df.dropna(inplace=True)"
   ]
  },
  {
   "cell_type": "code",
   "execution_count": 142,
   "metadata": {},
   "outputs": [
    {
     "data": {
      "text/html": [
       "<div>\n",
       "<style scoped>\n",
       "    .dataframe tbody tr th:only-of-type {\n",
       "        vertical-align: middle;\n",
       "    }\n",
       "\n",
       "    .dataframe tbody tr th {\n",
       "        vertical-align: top;\n",
       "    }\n",
       "\n",
       "    .dataframe thead th {\n",
       "        text-align: right;\n",
       "    }\n",
       "</style>\n",
       "<table border=\"1\" class=\"dataframe\">\n",
       "  <thead>\n",
       "    <tr style=\"text-align: right;\">\n",
       "      <th></th>\n",
       "      <th>Date</th>\n",
       "      <th>M630H8980_unit_price</th>\n",
       "      <th>M630H8980_units</th>\n",
       "      <th>M735H7159_unit_price</th>\n",
       "      <th>M735H7159_units</th>\n",
       "    </tr>\n",
       "  </thead>\n",
       "  <tbody>\n",
       "    <tr>\n",
       "      <th>0</th>\n",
       "      <td>2021-02-15</td>\n",
       "      <td>49.77</td>\n",
       "      <td>186.0</td>\n",
       "      <td>55.71</td>\n",
       "      <td>262.0</td>\n",
       "    </tr>\n",
       "    <tr>\n",
       "      <th>1</th>\n",
       "      <td>2021-02-14</td>\n",
       "      <td>49.03</td>\n",
       "      <td>233.0</td>\n",
       "      <td>55.60</td>\n",
       "      <td>320.0</td>\n",
       "    </tr>\n",
       "    <tr>\n",
       "      <th>2</th>\n",
       "      <td>2021-02-13</td>\n",
       "      <td>47.15</td>\n",
       "      <td>233.0</td>\n",
       "      <td>54.67</td>\n",
       "      <td>241.0</td>\n",
       "    </tr>\n",
       "    <tr>\n",
       "      <th>3</th>\n",
       "      <td>2021-02-12</td>\n",
       "      <td>48.12</td>\n",
       "      <td>188.0</td>\n",
       "      <td>55.20</td>\n",
       "      <td>242.0</td>\n",
       "    </tr>\n",
       "    <tr>\n",
       "      <th>4</th>\n",
       "      <td>2021-02-11</td>\n",
       "      <td>49.81</td>\n",
       "      <td>179.0</td>\n",
       "      <td>55.43</td>\n",
       "      <td>282.0</td>\n",
       "    </tr>\n",
       "  </tbody>\n",
       "</table>\n",
       "</div>"
      ],
      "text/plain": [
       "        Date  M630H8980_unit_price  M630H8980_units  M735H7159_unit_price  \\\n",
       "0 2021-02-15                 49.77            186.0                 55.71   \n",
       "1 2021-02-14                 49.03            233.0                 55.60   \n",
       "2 2021-02-13                 47.15            233.0                 54.67   \n",
       "3 2021-02-12                 48.12            188.0                 55.20   \n",
       "4 2021-02-11                 49.81            179.0                 55.43   \n",
       "\n",
       "   M735H7159_units  \n",
       "0            262.0  \n",
       "1            320.0  \n",
       "2            241.0  \n",
       "3            242.0  \n",
       "4            282.0  "
      ]
     },
     "execution_count": 142,
     "metadata": {},
     "output_type": "execute_result"
    }
   ],
   "source": [
    "df.head()"
   ]
  },
  {
   "cell_type": "code",
   "execution_count": 147,
   "metadata": {},
   "outputs": [],
   "source": [
    "df_weekly = df.set_index('Date').resample('w').agg({'M630H8980_unit_price': 'mean', 'M630H8980_units': 'sum', 'M735H7159_unit_price': 'mean', 'M735H7159_units': 'sum'})"
   ]
  },
  {
   "cell_type": "code",
   "execution_count": 148,
   "metadata": {},
   "outputs": [],
   "source": [
    "df_weekly.fillna(0, inplace=True)"
   ]
  },
  {
   "cell_type": "code",
   "execution_count": 150,
   "metadata": {},
   "outputs": [],
   "source": [
    "df_weekly = df_weekly[(df_weekly.T != 0).any()]"
   ]
  },
  {
   "cell_type": "code",
   "execution_count": 151,
   "metadata": {},
   "outputs": [
    {
     "data": {
      "text/html": [
       "<div>\n",
       "<style scoped>\n",
       "    .dataframe tbody tr th:only-of-type {\n",
       "        vertical-align: middle;\n",
       "    }\n",
       "\n",
       "    .dataframe tbody tr th {\n",
       "        vertical-align: top;\n",
       "    }\n",
       "\n",
       "    .dataframe thead th {\n",
       "        text-align: right;\n",
       "    }\n",
       "</style>\n",
       "<table border=\"1\" class=\"dataframe\">\n",
       "  <thead>\n",
       "    <tr style=\"text-align: right;\">\n",
       "      <th></th>\n",
       "      <th>M630H8980_unit_price</th>\n",
       "      <th>M630H8980_units</th>\n",
       "      <th>M735H7159_unit_price</th>\n",
       "      <th>M735H7159_units</th>\n",
       "    </tr>\n",
       "    <tr>\n",
       "      <th>Date</th>\n",
       "      <th></th>\n",
       "      <th></th>\n",
       "      <th></th>\n",
       "      <th></th>\n",
       "    </tr>\n",
       "  </thead>\n",
       "  <tbody>\n",
       "    <tr>\n",
       "      <th>2020-08-23</th>\n",
       "      <td>53.500000</td>\n",
       "      <td>372.0</td>\n",
       "      <td>68.030000</td>\n",
       "      <td>5.0</td>\n",
       "    </tr>\n",
       "    <tr>\n",
       "      <th>2020-09-13</th>\n",
       "      <td>58.025714</td>\n",
       "      <td>1273.0</td>\n",
       "      <td>68.030000</td>\n",
       "      <td>166.0</td>\n",
       "    </tr>\n",
       "    <tr>\n",
       "      <th>2020-09-20</th>\n",
       "      <td>56.871429</td>\n",
       "      <td>1251.0</td>\n",
       "      <td>66.258571</td>\n",
       "      <td>1021.0</td>\n",
       "    </tr>\n",
       "    <tr>\n",
       "      <th>2020-09-27</th>\n",
       "      <td>54.170000</td>\n",
       "      <td>1489.0</td>\n",
       "      <td>65.644286</td>\n",
       "      <td>1658.0</td>\n",
       "    </tr>\n",
       "    <tr>\n",
       "      <th>2020-10-04</th>\n",
       "      <td>53.967143</td>\n",
       "      <td>1650.0</td>\n",
       "      <td>64.848571</td>\n",
       "      <td>1842.0</td>\n",
       "    </tr>\n",
       "    <tr>\n",
       "      <th>2020-10-11</th>\n",
       "      <td>54.295714</td>\n",
       "      <td>1494.0</td>\n",
       "      <td>64.362857</td>\n",
       "      <td>2827.0</td>\n",
       "    </tr>\n",
       "    <tr>\n",
       "      <th>2020-10-18</th>\n",
       "      <td>55.014286</td>\n",
       "      <td>1316.0</td>\n",
       "      <td>64.584286</td>\n",
       "      <td>3613.0</td>\n",
       "    </tr>\n",
       "    <tr>\n",
       "      <th>2020-10-25</th>\n",
       "      <td>54.580000</td>\n",
       "      <td>879.0</td>\n",
       "      <td>54.158571</td>\n",
       "      <td>4659.0</td>\n",
       "    </tr>\n",
       "    <tr>\n",
       "      <th>2020-11-01</th>\n",
       "      <td>53.574286</td>\n",
       "      <td>1054.0</td>\n",
       "      <td>53.340000</td>\n",
       "      <td>5101.0</td>\n",
       "    </tr>\n",
       "    <tr>\n",
       "      <th>2020-11-08</th>\n",
       "      <td>54.242857</td>\n",
       "      <td>1348.0</td>\n",
       "      <td>53.190000</td>\n",
       "      <td>3427.0</td>\n",
       "    </tr>\n",
       "    <tr>\n",
       "      <th>2020-11-15</th>\n",
       "      <td>54.652857</td>\n",
       "      <td>1199.0</td>\n",
       "      <td>54.747143</td>\n",
       "      <td>2855.0</td>\n",
       "    </tr>\n",
       "    <tr>\n",
       "      <th>2020-11-22</th>\n",
       "      <td>53.057143</td>\n",
       "      <td>1543.0</td>\n",
       "      <td>46.191429</td>\n",
       "      <td>16664.0</td>\n",
       "    </tr>\n",
       "    <tr>\n",
       "      <th>2020-11-29</th>\n",
       "      <td>42.334286</td>\n",
       "      <td>8134.0</td>\n",
       "      <td>45.060000</td>\n",
       "      <td>20018.0</td>\n",
       "    </tr>\n",
       "    <tr>\n",
       "      <th>2020-12-06</th>\n",
       "      <td>52.772857</td>\n",
       "      <td>2471.0</td>\n",
       "      <td>52.265714</td>\n",
       "      <td>5975.0</td>\n",
       "    </tr>\n",
       "    <tr>\n",
       "      <th>2020-12-13</th>\n",
       "      <td>55.227143</td>\n",
       "      <td>1371.0</td>\n",
       "      <td>55.077143</td>\n",
       "      <td>2966.0</td>\n",
       "    </tr>\n",
       "    <tr>\n",
       "      <th>2020-12-20</th>\n",
       "      <td>55.106667</td>\n",
       "      <td>330.0</td>\n",
       "      <td>55.096667</td>\n",
       "      <td>1258.0</td>\n",
       "    </tr>\n",
       "    <tr>\n",
       "      <th>2020-12-27</th>\n",
       "      <td>54.240000</td>\n",
       "      <td>1064.0</td>\n",
       "      <td>54.554286</td>\n",
       "      <td>2622.0</td>\n",
       "    </tr>\n",
       "    <tr>\n",
       "      <th>2021-01-03</th>\n",
       "      <td>52.980000</td>\n",
       "      <td>1560.0</td>\n",
       "      <td>53.447143</td>\n",
       "      <td>3427.0</td>\n",
       "    </tr>\n",
       "    <tr>\n",
       "      <th>2021-01-10</th>\n",
       "      <td>48.284286</td>\n",
       "      <td>2227.0</td>\n",
       "      <td>48.335714</td>\n",
       "      <td>5388.0</td>\n",
       "    </tr>\n",
       "    <tr>\n",
       "      <th>2021-01-17</th>\n",
       "      <td>47.758571</td>\n",
       "      <td>1838.0</td>\n",
       "      <td>48.545714</td>\n",
       "      <td>4395.0</td>\n",
       "    </tr>\n",
       "    <tr>\n",
       "      <th>2021-01-24</th>\n",
       "      <td>46.920000</td>\n",
       "      <td>192.0</td>\n",
       "      <td>48.810000</td>\n",
       "      <td>1107.0</td>\n",
       "    </tr>\n",
       "    <tr>\n",
       "      <th>2021-01-31</th>\n",
       "      <td>48.346667</td>\n",
       "      <td>551.0</td>\n",
       "      <td>48.636667</td>\n",
       "      <td>1845.0</td>\n",
       "    </tr>\n",
       "    <tr>\n",
       "      <th>2021-02-07</th>\n",
       "      <td>55.444286</td>\n",
       "      <td>1255.0</td>\n",
       "      <td>54.692857</td>\n",
       "      <td>2752.0</td>\n",
       "    </tr>\n",
       "    <tr>\n",
       "      <th>2021-02-14</th>\n",
       "      <td>51.768571</td>\n",
       "      <td>1335.0</td>\n",
       "      <td>55.141429</td>\n",
       "      <td>2237.0</td>\n",
       "    </tr>\n",
       "    <tr>\n",
       "      <th>2021-02-21</th>\n",
       "      <td>49.770000</td>\n",
       "      <td>186.0</td>\n",
       "      <td>55.710000</td>\n",
       "      <td>262.0</td>\n",
       "    </tr>\n",
       "  </tbody>\n",
       "</table>\n",
       "</div>"
      ],
      "text/plain": [
       "            M630H8980_unit_price  M630H8980_units  M735H7159_unit_price  \\\n",
       "Date                                                                      \n",
       "2020-08-23             53.500000            372.0             68.030000   \n",
       "2020-09-13             58.025714           1273.0             68.030000   \n",
       "2020-09-20             56.871429           1251.0             66.258571   \n",
       "2020-09-27             54.170000           1489.0             65.644286   \n",
       "2020-10-04             53.967143           1650.0             64.848571   \n",
       "2020-10-11             54.295714           1494.0             64.362857   \n",
       "2020-10-18             55.014286           1316.0             64.584286   \n",
       "2020-10-25             54.580000            879.0             54.158571   \n",
       "2020-11-01             53.574286           1054.0             53.340000   \n",
       "2020-11-08             54.242857           1348.0             53.190000   \n",
       "2020-11-15             54.652857           1199.0             54.747143   \n",
       "2020-11-22             53.057143           1543.0             46.191429   \n",
       "2020-11-29             42.334286           8134.0             45.060000   \n",
       "2020-12-06             52.772857           2471.0             52.265714   \n",
       "2020-12-13             55.227143           1371.0             55.077143   \n",
       "2020-12-20             55.106667            330.0             55.096667   \n",
       "2020-12-27             54.240000           1064.0             54.554286   \n",
       "2021-01-03             52.980000           1560.0             53.447143   \n",
       "2021-01-10             48.284286           2227.0             48.335714   \n",
       "2021-01-17             47.758571           1838.0             48.545714   \n",
       "2021-01-24             46.920000            192.0             48.810000   \n",
       "2021-01-31             48.346667            551.0             48.636667   \n",
       "2021-02-07             55.444286           1255.0             54.692857   \n",
       "2021-02-14             51.768571           1335.0             55.141429   \n",
       "2021-02-21             49.770000            186.0             55.710000   \n",
       "\n",
       "            M735H7159_units  \n",
       "Date                         \n",
       "2020-08-23              5.0  \n",
       "2020-09-13            166.0  \n",
       "2020-09-20           1021.0  \n",
       "2020-09-27           1658.0  \n",
       "2020-10-04           1842.0  \n",
       "2020-10-11           2827.0  \n",
       "2020-10-18           3613.0  \n",
       "2020-10-25           4659.0  \n",
       "2020-11-01           5101.0  \n",
       "2020-11-08           3427.0  \n",
       "2020-11-15           2855.0  \n",
       "2020-11-22          16664.0  \n",
       "2020-11-29          20018.0  \n",
       "2020-12-06           5975.0  \n",
       "2020-12-13           2966.0  \n",
       "2020-12-20           1258.0  \n",
       "2020-12-27           2622.0  \n",
       "2021-01-03           3427.0  \n",
       "2021-01-10           5388.0  \n",
       "2021-01-17           4395.0  \n",
       "2021-01-24           1107.0  \n",
       "2021-01-31           1845.0  \n",
       "2021-02-07           2752.0  \n",
       "2021-02-14           2237.0  \n",
       "2021-02-21            262.0  "
      ]
     },
     "execution_count": 151,
     "metadata": {},
     "output_type": "execute_result"
    }
   ],
   "source": [
    "df_weekly"
   ]
  },
  {
   "cell_type": "markdown",
   "metadata": {},
   "source": [
    "## Explore relationship"
   ]
  },
  {
   "cell_type": "code",
   "execution_count": 137,
   "metadata": {},
   "outputs": [
    {
     "data": {
      "text/plain": [
       "<AxesSubplot:xlabel='M630H8980_unit_price', ylabel='M630H8980_units'>"
      ]
     },
     "execution_count": 137,
     "metadata": {},
     "output_type": "execute_result"
    },
    {
     "data": {
      "image/png": "[encoded data removed]",
      "text/plain": [
       "<Figure size 432x288 with 1 Axes>"
      ]
     },
     "metadata": {
      "needs_background": "light"
     },
     "output_type": "display_data"
    }
   ],
   "source": [
    "sns.regplot(data=df, x='M630H8980_unit_price', y='M630H8980_units')"
   ]
  },
  {
   "cell_type": "code",
   "execution_count": 157,
   "metadata": {},
   "outputs": [
    {
     "data": {
      "text/plain": [
       "<AxesSubplot:xlabel='M630H8980_unit_price', ylabel='M735H7159_units'>"
      ]
     },
     "execution_count": 157,
     "metadata": {},
     "output_type": "execute_result"
    },
    {
     "data": {
      "image/png": "[encoded data removed]",
      "text/plain": [
       "<Figure size 432x288 with 1 Axes>"
      ]
     },
     "metadata": {
      "needs_background": "light"
     },
     "output_type": "display_data"
    }
   ],
   "source": [
    "sns.regplot(data=df, x='M630H8980_unit_price', y='M735H7159_units')"
   ]
  },
  {
   "cell_type": "code",
   "execution_count": 152,
   "metadata": {},
   "outputs": [
    {
     "data": {
      "text/plain": [
       "<AxesSubplot:xlabel='M630H8980_unit_price', ylabel='M630H8980_units'>"
      ]
     },
     "execution_count": 152,
     "metadata": {},
     "output_type": "execute_result"
    },
    {
     "data": {
      "image/png": "[encoded data removed]",
      "text/plain": [
       "<Figure size 432x288 with 1 Axes>"
      ]
     },
     "metadata": {
      "needs_background": "light"
     },
     "output_type": "display_data"
    }
   ],
   "source": [
    "sns.regplot(data=df_weekly, x='M630H8980_unit_price', y='M630H8980_units')"
   ]
  },
  {
   "cell_type": "code",
   "execution_count": 153,
   "metadata": {},
   "outputs": [
    {
     "data": {
      "text/plain": [
       "<AxesSubplot:xlabel='M735H7159_units', ylabel='M630H8980_units'>"
      ]
     },
     "execution_count": 153,
     "metadata": {},
     "output_type": "execute_result"
    },
    {
     "data": {
      "image/png": "[encoded data removed]",
      "text/plain": [
       "<Figure size 432x288 with 1 Axes>"
      ]
     },
     "metadata": {
      "needs_background": "light"
     },
     "output_type": "display_data"
    }
   ],
   "source": [
    "sns.regplot(data=df_weekly, x='M735H7159_units', y='M630H8980_units')"
   ]
  },
  {
   "cell_type": "markdown",
   "metadata": {},
   "source": [
    "## Modelling"
   ]
  },
  {
   "cell_type": "markdown",
   "metadata": {},
   "source": [
    "### Linear regression"
   ]
  },
  {
   "cell_type": "code",
   "execution_count": null,
   "metadata": {},
   "outputs": [],
   "source": [
    "from sklearn.model_selection import cross_val_score"
   ]
  },
  {
   "cell_type": "code",
   "execution_count": 51,
   "metadata": {},
   "outputs": [],
   "source": [
    "from sklearn.linear_model import LinearRegression"
   ]
  },
  {
   "cell_type": "code",
   "execution_count": 110,
   "metadata": {},
   "outputs": [],
   "source": [
    "X = df[['M630H8980_unit_price', 'M630H8980_units', 'M735H7159_unit_price']]"
   ]
  },
  {
   "cell_type": "code",
   "execution_count": 79,
   "metadata": {},
   "outputs": [],
   "source": [
    "y = df['M735H7159_units']"
   ]
  },
  {
   "cell_type": "code",
   "execution_count": 52,
   "metadata": {},
   "outputs": [],
   "source": [
    "lr = LinearRegression()"
   ]
  },
  {
   "cell_type": "code",
   "execution_count": null,
   "metadata": {},
   "outputs": [],
   "source": []
  },
  {
   "cell_type": "code",
   "execution_count": 80,
   "metadata": {},
   "outputs": [
    {
     "data": {
      "text/plain": [
       "LinearRegression()"
      ]
     },
     "execution_count": 80,
     "metadata": {},
     "output_type": "execute_result"
    }
   ],
   "source": [
    "lr.fit(X,y)"
   ]
  },
  {
   "cell_type": "code",
   "execution_count": 83,
   "metadata": {},
   "outputs": [],
   "source": [
    "pred = lr.predict(X)"
   ]
  },
  {
   "cell_type": "code",
   "execution_count": 87,
   "metadata": {},
   "outputs": [
    {
     "name": "stderr",
     "output_type": "stream",
     "text": [
      "/home/bioinformatica/.local/share/virtualenvs/Ironhack-OdDBNwqQ/lib/python3.7/site-packages/seaborn/_decorators.py:43: FutureWarning: Pass the following variables as keyword args: x, y. From version 0.12, the only valid positional argument will be `data`, and passing other arguments without an explicit keyword will result in an error or misinterpretation.\n",
      "  FutureWarning\n"
     ]
    },
    {
     "data": {
      "text/plain": [
       "<AxesSubplot:xlabel='M735H7159_units'>"
      ]
     },
     "execution_count": 87,
     "metadata": {},
     "output_type": "execute_result"
    },
    {
     "data": {
      "image/png": "[encoded data removed]",
      "text/plain": [
       "<Figure size 432x288 with 1 Axes>"
      ]
     },
     "metadata": {
      "needs_background": "light"
     },
     "output_type": "display_data"
    }
   ],
   "source": [
    "sns.regplot(y, pred)"
   ]
  },
  {
   "cell_type": "code",
   "execution_count": 90,
   "metadata": {},
   "outputs": [
    {
     "data": {
      "text/plain": [
       "array([-4.95050038e-01, -1.49368901e-01, -6.63982038e-01, -4.05486373e-01,\n",
       "       -1.35608899e-01, -7.01761931e-01, -7.44546823e+00, -6.91799931e+04,\n",
       "       -5.34173340e+05, -2.29600083e+02])"
      ]
     },
     "execution_count": 90,
     "metadata": {},
     "output_type": "execute_result"
    }
   ],
   "source": [
    "cross_val_score(lr, X, y, cv=10)"
   ]
  },
  {
   "cell_type": "markdown",
   "metadata": {},
   "source": [
    "### decision tree"
   ]
  },
  {
   "cell_type": "code",
   "execution_count": 92,
   "metadata": {},
   "outputs": [],
   "source": [
    "from sklearn.tree import DecisionTreeRegressor"
   ]
  },
  {
   "cell_type": "code",
   "execution_count": 89,
   "metadata": {},
   "outputs": [
    {
     "data": {
      "text/plain": [
       "array([ 1.98817050e-01, -2.37943964e+00, -6.71237987e-01,  8.47253812e-01,\n",
       "        5.30917559e-02, -3.20345539e+00, -3.05800172e+00, -3.99617699e+02,\n",
       "       -3.45088889e+01,  7.54412915e-01])"
      ]
     },
     "execution_count": 89,
     "metadata": {},
     "output_type": "execute_result"
    }
   ],
   "source": [
    "tree = DecisionTreeRegressor(random_state=0)\n",
    "cross_val_score(tree, X, y, cv=10)"
   ]
  },
  {
   "cell_type": "code",
   "execution_count": 94,
   "metadata": {},
   "outputs": [
    {
     "data": {
      "text/html": [
       "<div>\n",
       "<style scoped>\n",
       "    .dataframe tbody tr th:only-of-type {\n",
       "        vertical-align: middle;\n",
       "    }\n",
       "\n",
       "    .dataframe tbody tr th {\n",
       "        vertical-align: top;\n",
       "    }\n",
       "\n",
       "    .dataframe thead th {\n",
       "        text-align: right;\n",
       "    }\n",
       "</style>\n",
       "<table border=\"1\" class=\"dataframe\">\n",
       "  <thead>\n",
       "    <tr style=\"text-align: right;\">\n",
       "      <th></th>\n",
       "      <th>M630H8980_unit_price</th>\n",
       "      <th>M630H8980_units</th>\n",
       "      <th>M735H7159_unit_price</th>\n",
       "    </tr>\n",
       "  </thead>\n",
       "  <tbody>\n",
       "    <tr>\n",
       "      <th>0</th>\n",
       "      <td>49.77</td>\n",
       "      <td>186.0</td>\n",
       "      <td>55.71</td>\n",
       "    </tr>\n",
       "    <tr>\n",
       "      <th>1</th>\n",
       "      <td>49.03</td>\n",
       "      <td>233.0</td>\n",
       "      <td>55.60</td>\n",
       "    </tr>\n",
       "    <tr>\n",
       "      <th>2</th>\n",
       "      <td>47.15</td>\n",
       "      <td>233.0</td>\n",
       "      <td>54.67</td>\n",
       "    </tr>\n",
       "    <tr>\n",
       "      <th>3</th>\n",
       "      <td>48.12</td>\n",
       "      <td>188.0</td>\n",
       "      <td>55.20</td>\n",
       "    </tr>\n",
       "    <tr>\n",
       "      <th>4</th>\n",
       "      <td>49.81</td>\n",
       "      <td>179.0</td>\n",
       "      <td>55.43</td>\n",
       "    </tr>\n",
       "    <tr>\n",
       "      <th>...</th>\n",
       "      <td>...</td>\n",
       "      <td>...</td>\n",
       "      <td>...</td>\n",
       "    </tr>\n",
       "    <tr>\n",
       "      <th>185</th>\n",
       "      <td>0.00</td>\n",
       "      <td>0.0</td>\n",
       "      <td>49.74</td>\n",
       "    </tr>\n",
       "    <tr>\n",
       "      <th>186</th>\n",
       "      <td>0.00</td>\n",
       "      <td>0.0</td>\n",
       "      <td>49.05</td>\n",
       "    </tr>\n",
       "    <tr>\n",
       "      <th>187</th>\n",
       "      <td>0.00</td>\n",
       "      <td>0.0</td>\n",
       "      <td>49.33</td>\n",
       "    </tr>\n",
       "    <tr>\n",
       "      <th>188</th>\n",
       "      <td>0.00</td>\n",
       "      <td>0.0</td>\n",
       "      <td>53.62</td>\n",
       "    </tr>\n",
       "    <tr>\n",
       "      <th>189</th>\n",
       "      <td>0.00</td>\n",
       "      <td>0.0</td>\n",
       "      <td>54.21</td>\n",
       "    </tr>\n",
       "  </tbody>\n",
       "</table>\n",
       "<p>190 rows × 3 columns</p>\n",
       "</div>"
      ],
      "text/plain": [
       "     M630H8980_unit_price  M630H8980_units  M735H7159_unit_price\n",
       "0                   49.77            186.0                 55.71\n",
       "1                   49.03            233.0                 55.60\n",
       "2                   47.15            233.0                 54.67\n",
       "3                   48.12            188.0                 55.20\n",
       "4                   49.81            179.0                 55.43\n",
       "..                    ...              ...                   ...\n",
       "185                  0.00              0.0                 49.74\n",
       "186                  0.00              0.0                 49.05\n",
       "187                  0.00              0.0                 49.33\n",
       "188                  0.00              0.0                 53.62\n",
       "189                  0.00              0.0                 54.21\n",
       "\n",
       "[190 rows x 3 columns]"
      ]
     },
     "execution_count": 94,
     "metadata": {},
     "output_type": "execute_result"
    }
   ],
   "source": [
    "X"
   ]
  },
  {
   "cell_type": "code",
   "execution_count": null,
   "metadata": {},
   "outputs": [],
   "source": []
  }
 ],
 "metadata": {
  "kernelspec": {
   "display_name": "Ironhack",
   "language": "python",
   "name": "ironhack"
  },
  "language_info": {
   "codemirror_mode": {
    "name": "ipython",
    "version": 3
   },
   "file_extension": ".py",
   "mimetype": "text/x-python",
   "name": "python",
   "nbconvert_exporter": "python",
   "pygments_lexer": "ipython3",
   "version": "3.7.5"
  },
  "toc": {
   "base_numbering": 1,
   "nav_menu": {},
   "number_sections": true,
   "sideBar": true,
   "skip_h1_title": false,
   "title_cell": "Table of Contents",
   "title_sidebar": "Contents",
   "toc_cell": true,
   "toc_position": {},
   "toc_section_display": true,
   "toc_window_display": false
  },
  "varInspector": {
   "cols": {
    "lenName": 16,
    "lenType": 16,
    "lenVar": 40
   },
   "kernels_config": {
    "python": {
     "delete_cmd_postfix": "",
     "delete_cmd_prefix": "del ",
     "library": "var_list.py",
     "varRefreshCmd": "print(var_dic_list())"
    },
    "r": {
     "delete_cmd_postfix": ") ",
     "delete_cmd_prefix": "rm(",
     "library": "var_list.r",
     "varRefreshCmd": "cat(var_dic_list()) "
    }
   },
   "types_to_exclude": [
    "module",
    "function",
    "builtin_function_or_method",
    "instance",
    "_Feature"
   ],
   "window_display": false
  }
 },
 "nbformat": 4,
 "nbformat_minor": 4
}
